{
 "cells": [
  {
   "cell_type": "code",
   "execution_count": 6,
   "id": "ac2bbeeb",
   "metadata": {},
   "outputs": [
    {
     "name": "stderr",
     "output_type": "stream",
     "text": [
      "2022-06-16 18:04:06.888217: W tensorflow/stream_executor/platform/default/dso_loader.cc:64] Could not load dynamic library 'libcudart.so.11.0'; dlerror: libcudart.so.11.0: cannot open shared object file: No such file or directory\n",
      "2022-06-16 18:04:06.888276: I tensorflow/stream_executor/cuda/cudart_stub.cc:29] Ignore above cudart dlerror if you do not have a GPU set up on your machine.\n"
     ]
    },
    {
     "name": "stdout",
     "output_type": "stream",
     "text": [
      "WARNING:tensorflow:Please fix your imports. Module tensorflow.python.training.tracking.base has been moved to tensorflow.python.trackable.base. The old module will be deleted in version 2.11.\n",
      "WARNING:tensorflow:Please fix your imports. Module tensorflow.python.training.tracking.resource has been moved to tensorflow.python.trackable.resource. The old module will be deleted in version 2.11.\n",
      "WARNING:tensorflow:Please fix your imports. Module tensorflow.python.training.tracking.graph_view has been moved to tensorflow.python.checkpoint.graph_view. The old module will be deleted in version 2.11.\n"
     ]
    },
    {
     "name": "stderr",
     "output_type": "stream",
     "text": [
      "2022-06-16 18:04:08.847392: W tensorflow/stream_executor/platform/default/dso_loader.cc:64] Could not load dynamic library 'libnvinfer.so.7'; dlerror: libnvinfer.so.7: cannot open shared object file: No such file or directory\n",
      "2022-06-16 18:04:08.847607: W tensorflow/stream_executor/platform/default/dso_loader.cc:64] Could not load dynamic library 'libnvinfer_plugin.so.7'; dlerror: libnvinfer_plugin.so.7: cannot open shared object file: No such file or directory\n",
      "2022-06-16 18:04:08.847628: W tensorflow/compiler/tf2tensorrt/utils/py_utils.cc:38] TF-TRT Warning: Cannot dlopen some TensorRT libraries. If you would like to use Nvidia GPU with TensorRT, please make sure the missing libraries mentioned above are installed properly.\n"
     ]
    },
    {
     "name": "stdout",
     "output_type": "stream",
     "text": [
      "WARNING:tensorflow:Please fix your imports. Module tensorflow.python.training.saving.functional_saver has been moved to tensorflow.python.checkpoint.functional_saver. The old module will be deleted in version 2.11.\n",
      "WARNING:tensorflow:Please fix your imports. Module tensorflow.python.training.saving.checkpoint_options has been moved to tensorflow.python.checkpoint.checkpoint_options. The old module will be deleted in version 2.11.\n",
      "2.10.0-dev20220615\n"
     ]
    }
   ],
   "source": [
    "import tensorflow as tf\n",
    "import pandas as pd\n",
    "from tensorflow import keras\n",
    "# !pip install tensorflow-datasets\n",
    "import numpy as np\n",
    "import matplotlib.pyplot as plt\n",
    "\n",
    "print(tf.__version__)"
   ]
  },
  {
   "cell_type": "code",
   "execution_count": 7,
   "id": "f66b8390",
   "metadata": {},
   "outputs": [],
   "source": [
    "train_file_path = \"train-data.tsv\"\n",
    "test_file_path = \"valid-data.tsv\""
   ]
  },
  {
   "cell_type": "code",
   "execution_count": 8,
   "id": "4f6a450b",
   "metadata": {},
   "outputs": [],
   "source": [
    "data_set=pd.read_table(train_file_path,sep=\"\\t\",header=None,names=[\"label\",\"message\"])"
   ]
  },
  {
   "cell_type": "code",
   "execution_count": 9,
   "id": "1fb4f575",
   "metadata": {},
   "outputs": [
    {
     "data": {
      "text/html": [
       "<div>\n",
       "<style scoped>\n",
       "    .dataframe tbody tr th:only-of-type {\n",
       "        vertical-align: middle;\n",
       "    }\n",
       "\n",
       "    .dataframe tbody tr th {\n",
       "        vertical-align: top;\n",
       "    }\n",
       "\n",
       "    .dataframe thead th {\n",
       "        text-align: right;\n",
       "    }\n",
       "</style>\n",
       "<table border=\"1\" class=\"dataframe\">\n",
       "  <thead>\n",
       "    <tr style=\"text-align: right;\">\n",
       "      <th></th>\n",
       "      <th>label</th>\n",
       "      <th>message</th>\n",
       "    </tr>\n",
       "  </thead>\n",
       "  <tbody>\n",
       "    <tr>\n",
       "      <th>0</th>\n",
       "      <td>ham</td>\n",
       "      <td>ahhhh...just woken up!had a bad dream about u ...</td>\n",
       "    </tr>\n",
       "    <tr>\n",
       "      <th>1</th>\n",
       "      <td>ham</td>\n",
       "      <td>you can never do nothing</td>\n",
       "    </tr>\n",
       "    <tr>\n",
       "      <th>2</th>\n",
       "      <td>ham</td>\n",
       "      <td>now u sound like manky scouse boy steve,like! ...</td>\n",
       "    </tr>\n",
       "    <tr>\n",
       "      <th>3</th>\n",
       "      <td>ham</td>\n",
       "      <td>mum say we wan to go then go... then she can s...</td>\n",
       "    </tr>\n",
       "    <tr>\n",
       "      <th>4</th>\n",
       "      <td>ham</td>\n",
       "      <td>never y lei... i v lazy... got wat? dat day ü ...</td>\n",
       "    </tr>\n",
       "  </tbody>\n",
       "</table>\n",
       "</div>"
      ],
      "text/plain": [
       "  label                                            message\n",
       "0   ham  ahhhh...just woken up!had a bad dream about u ...\n",
       "1   ham                           you can never do nothing\n",
       "2   ham  now u sound like manky scouse boy steve,like! ...\n",
       "3   ham  mum say we wan to go then go... then she can s...\n",
       "4   ham  never y lei... i v lazy... got wat? dat day ü ..."
      ]
     },
     "execution_count": 9,
     "metadata": {},
     "output_type": "execute_result"
    }
   ],
   "source": [
    "data_set.head()"
   ]
  },
  {
   "cell_type": "markdown",
   "id": "786a18cb",
   "metadata": {},
   "source": [
    "## Exploring the data set"
   ]
  },
  {
   "cell_type": "code",
   "execution_count": 10,
   "id": "078f0195",
   "metadata": {},
   "outputs": [
    {
     "data": {
      "text/plain": [
       "(4179, 2)"
      ]
     },
     "execution_count": 10,
     "metadata": {},
     "output_type": "execute_result"
    }
   ],
   "source": [
    "data_set.shape"
   ]
  },
  {
   "cell_type": "code",
   "execution_count": 11,
   "id": "54955f3b",
   "metadata": {},
   "outputs": [
    {
     "data": {
      "text/plain": [
       "label      0\n",
       "message    0\n",
       "dtype: int64"
      ]
     },
     "execution_count": 11,
     "metadata": {},
     "output_type": "execute_result"
    }
   ],
   "source": [
    "data_set.isnull().sum()"
   ]
  },
  {
   "cell_type": "code",
   "execution_count": 12,
   "id": "48d31704",
   "metadata": {},
   "outputs": [
    {
     "name": "stdout",
     "output_type": "stream",
     "text": [
      "<class 'pandas.core.frame.DataFrame'>\n",
      "RangeIndex: 4179 entries, 0 to 4178\n",
      "Data columns (total 2 columns):\n",
      " #   Column   Non-Null Count  Dtype \n",
      "---  ------   --------------  ----- \n",
      " 0   label    4179 non-null   object\n",
      " 1   message  4179 non-null   object\n",
      "dtypes: object(2)\n",
      "memory usage: 65.4+ KB\n"
     ]
    }
   ],
   "source": [
    "data_set.info()"
   ]
  },
  {
   "cell_type": "code",
   "execution_count": 13,
   "id": "e63f0c77",
   "metadata": {},
   "outputs": [
    {
     "data": {
      "text/html": [
       "<div>\n",
       "<style scoped>\n",
       "    .dataframe tbody tr th:only-of-type {\n",
       "        vertical-align: middle;\n",
       "    }\n",
       "\n",
       "    .dataframe tbody tr th {\n",
       "        vertical-align: top;\n",
       "    }\n",
       "\n",
       "    .dataframe thead th {\n",
       "        text-align: right;\n",
       "    }\n",
       "</style>\n",
       "<table border=\"1\" class=\"dataframe\">\n",
       "  <thead>\n",
       "    <tr style=\"text-align: right;\">\n",
       "      <th></th>\n",
       "      <th>label</th>\n",
       "      <th>message</th>\n",
       "    </tr>\n",
       "  </thead>\n",
       "  <tbody>\n",
       "    <tr>\n",
       "      <th>count</th>\n",
       "      <td>4179</td>\n",
       "      <td>4179</td>\n",
       "    </tr>\n",
       "    <tr>\n",
       "      <th>unique</th>\n",
       "      <td>2</td>\n",
       "      <td>3935</td>\n",
       "    </tr>\n",
       "    <tr>\n",
       "      <th>top</th>\n",
       "      <td>ham</td>\n",
       "      <td>sorry, i'll call later</td>\n",
       "    </tr>\n",
       "    <tr>\n",
       "      <th>freq</th>\n",
       "      <td>3619</td>\n",
       "      <td>22</td>\n",
       "    </tr>\n",
       "  </tbody>\n",
       "</table>\n",
       "</div>"
      ],
      "text/plain": [
       "       label                 message\n",
       "count   4179                    4179\n",
       "unique     2                    3935\n",
       "top      ham  sorry, i'll call later\n",
       "freq    3619                      22"
      ]
     },
     "execution_count": 13,
     "metadata": {},
     "output_type": "execute_result"
    }
   ],
   "source": [
    "data_set.describe()"
   ]
  },
  {
   "cell_type": "markdown",
   "id": "d2445dca",
   "metadata": {},
   "source": [
    "## Exploring more the data set"
   ]
  },
  {
   "cell_type": "code",
   "execution_count": 14,
   "id": "a59c6c64",
   "metadata": {},
   "outputs": [],
   "source": [
    "len_ham=data_set[\"label\"][data_set.label==\"ham\"]\n",
    "len_spam=data_set[\"label\"][data_set.label==\"spam\"]"
   ]
  },
  {
   "cell_type": "code",
   "execution_count": 15,
   "id": "041286e7",
   "metadata": {},
   "outputs": [
    {
     "name": "stdout",
     "output_type": "stream",
     "text": [
      "ham messages length is 3619\n",
      "spam messages length is 560\n"
     ]
    },
    {
     "data": {
      "image/png": "[encoded data removed]",
      "text/plain": [
       "<Figure size 432x288 with 1 Axes>"
      ]
     },
     "metadata": {},
     "output_type": "display_data"
    }
   ],
   "source": [
    "print(\"ham messages length is %d\"%len(len_ham))\n",
    "print(\"spam messages length is %d\"%len(len_spam))\n",
    "arr=np.array([len(len_ham),len(len_spam)])\n",
    "labels=[\"ham\",\"spam\"]\n",
    "plt.pie(arr,labels=labels,explode=[0.2,0.0],shadow=True)\n",
    "plt.show()\n",
    "# here data is inbalanced .. the model will learn from ham messages more than spam messages"
   ]
  },
  {
   "cell_type": "markdown",
   "id": "4cd5b95a",
   "metadata": {},
   "source": [
    "## data preprocessing... text preprocessing"
   ]
  },
  {
   "cell_type": "code",
   "execution_count": 16,
   "id": "e3fd4c2d",
   "metadata": {},
   "outputs": [],
   "source": [
    "from nltk.stem import PorterStemmer\n",
    "from nltk.tokenize import word_tokenize\n",
    "def text_preprocessing(text):\n",
    "    \"\"\" batter to user NLTK stemming\"\"\"\n",
    "    ps = PorterStemmer()\n",
    "    txt=str(text).lower()\n",
    "    words = word_tokenize(txt)\n",
    "    return ''.join(words)"
   ]
  },
  {
   "cell_type": "code",
   "execution_count": 17,
   "id": "f2f49174",
   "metadata": {},
   "outputs": [
    {
     "name": "stdout",
     "output_type": "stream",
     "text": [
      "['Programmers', 'program', 'with', 'programming', 'languages']\n"
     ]
    }
   ],
   "source": [
    "# importing modules\n",
    "from nltk.stem import PorterStemmer\n",
    "from nltk.tokenize import word_tokenize\n",
    "\n",
    "ps = PorterStemmer()\n",
    "\n",
    "sentence = \"Programmers program with programming languages\"\n",
    "words = word_tokenize(sentence)\n",
    "print(words)"
   ]
  },
  {
   "cell_type": "code",
   "execution_count": 18,
   "id": "6007e496",
   "metadata": {},
   "outputs": [
    {
     "data": {
      "text/html": [
       "<div>\n",
       "<style scoped>\n",
       "    .dataframe tbody tr th:only-of-type {\n",
       "        vertical-align: middle;\n",
       "    }\n",
       "\n",
       "    .dataframe tbody tr th {\n",
       "        vertical-align: top;\n",
       "    }\n",
       "\n",
       "    .dataframe thead th {\n",
       "        text-align: right;\n",
       "    }\n",
       "</style>\n",
       "<table border=\"1\" class=\"dataframe\">\n",
       "  <thead>\n",
       "    <tr style=\"text-align: right;\">\n",
       "      <th></th>\n",
       "      <th>label</th>\n",
       "      <th>message</th>\n",
       "      <th>new message</th>\n",
       "    </tr>\n",
       "  </thead>\n",
       "  <tbody>\n",
       "    <tr>\n",
       "      <th>0</th>\n",
       "      <td>ham</td>\n",
       "      <td>ahhhh...just woken up!had a bad dream about u ...</td>\n",
       "      <td>ahhhh...justwokenup!hadabaddreamaboututho,soid...</td>\n",
       "    </tr>\n",
       "    <tr>\n",
       "      <th>1</th>\n",
       "      <td>ham</td>\n",
       "      <td>you can never do nothing</td>\n",
       "      <td>youcanneverdonothing</td>\n",
       "    </tr>\n",
       "    <tr>\n",
       "      <th>2</th>\n",
       "      <td>ham</td>\n",
       "      <td>now u sound like manky scouse boy steve,like! ...</td>\n",
       "      <td>nowusoundlikemankyscouseboysteve,like!iistrave...</td>\n",
       "    </tr>\n",
       "    <tr>\n",
       "      <th>3</th>\n",
       "      <td>ham</td>\n",
       "      <td>mum say we wan to go then go... then she can s...</td>\n",
       "      <td>mumsaywewantogothengo...thenshecanshunbianwatc...</td>\n",
       "    </tr>\n",
       "    <tr>\n",
       "      <th>4</th>\n",
       "      <td>ham</td>\n",
       "      <td>never y lei... i v lazy... got wat? dat day ü ...</td>\n",
       "      <td>neverylei...ivlazy...gotwat?datdayüsendmedaurl...</td>\n",
       "    </tr>\n",
       "  </tbody>\n",
       "</table>\n",
       "</div>"
      ],
      "text/plain": [
       "  label                                            message  \\\n",
       "0   ham  ahhhh...just woken up!had a bad dream about u ...   \n",
       "1   ham                           you can never do nothing   \n",
       "2   ham  now u sound like manky scouse boy steve,like! ...   \n",
       "3   ham  mum say we wan to go then go... then she can s...   \n",
       "4   ham  never y lei... i v lazy... got wat? dat day ü ...   \n",
       "\n",
       "                                         new message  \n",
       "0  ahhhh...justwokenup!hadabaddreamaboututho,soid...  \n",
       "1                               youcanneverdonothing  \n",
       "2  nowusoundlikemankyscouseboysteve,like!iistrave...  \n",
       "3  mumsaywewantogothengo...thenshecanshunbianwatc...  \n",
       "4  neverylei...ivlazy...gotwat?datdayüsendmedaurl...  "
      ]
     },
     "execution_count": 18,
     "metadata": {},
     "output_type": "execute_result"
    }
   ],
   "source": [
    "data_set[\"new message\"]=data_set[\"message\"].apply(lambda x:text_preprocessing(x))\n",
    "data_set.head()"
   ]
  },
  {
   "cell_type": "markdown",
   "id": "1091e3b8",
   "metadata": {},
   "source": [
    "# features encoding"
   ]
  },
  {
   "cell_type": "code",
   "execution_count": 19,
   "id": "d1efd549",
   "metadata": {},
   "outputs": [
    {
     "data": {
      "text/html": [
       "<div>\n",
       "<style scoped>\n",
       "    .dataframe tbody tr th:only-of-type {\n",
       "        vertical-align: middle;\n",
       "    }\n",
       "\n",
       "    .dataframe tbody tr th {\n",
       "        vertical-align: top;\n",
       "    }\n",
       "\n",
       "    .dataframe thead th {\n",
       "        text-align: right;\n",
       "    }\n",
       "</style>\n",
       "<table border=\"1\" class=\"dataframe\">\n",
       "  <thead>\n",
       "    <tr style=\"text-align: right;\">\n",
       "      <th></th>\n",
       "      <th>label</th>\n",
       "      <th>message</th>\n",
       "      <th>new message</th>\n",
       "    </tr>\n",
       "  </thead>\n",
       "  <tbody>\n",
       "    <tr>\n",
       "      <th>0</th>\n",
       "      <td>0</td>\n",
       "      <td>ahhhh...just woken up!had a bad dream about u ...</td>\n",
       "      <td>ahhhh...justwokenup!hadabaddreamaboututho,soid...</td>\n",
       "    </tr>\n",
       "    <tr>\n",
       "      <th>1</th>\n",
       "      <td>0</td>\n",
       "      <td>you can never do nothing</td>\n",
       "      <td>youcanneverdonothing</td>\n",
       "    </tr>\n",
       "    <tr>\n",
       "      <th>2</th>\n",
       "      <td>0</td>\n",
       "      <td>now u sound like manky scouse boy steve,like! ...</td>\n",
       "      <td>nowusoundlikemankyscouseboysteve,like!iistrave...</td>\n",
       "    </tr>\n",
       "    <tr>\n",
       "      <th>3</th>\n",
       "      <td>0</td>\n",
       "      <td>mum say we wan to go then go... then she can s...</td>\n",
       "      <td>mumsaywewantogothengo...thenshecanshunbianwatc...</td>\n",
       "    </tr>\n",
       "    <tr>\n",
       "      <th>4</th>\n",
       "      <td>0</td>\n",
       "      <td>never y lei... i v lazy... got wat? dat day ü ...</td>\n",
       "      <td>neverylei...ivlazy...gotwat?datdayüsendmedaurl...</td>\n",
       "    </tr>\n",
       "  </tbody>\n",
       "</table>\n",
       "</div>"
      ],
      "text/plain": [
       "   label                                            message  \\\n",
       "0      0  ahhhh...just woken up!had a bad dream about u ...   \n",
       "1      0                           you can never do nothing   \n",
       "2      0  now u sound like manky scouse boy steve,like! ...   \n",
       "3      0  mum say we wan to go then go... then she can s...   \n",
       "4      0  never y lei... i v lazy... got wat? dat day ü ...   \n",
       "\n",
       "                                         new message  \n",
       "0  ahhhh...justwokenup!hadabaddreamaboututho,soid...  \n",
       "1                               youcanneverdonothing  \n",
       "2  nowusoundlikemankyscouseboysteve,like!iistrave...  \n",
       "3  mumsaywewantogothengo...thenshecanshunbianwatc...  \n",
       "4  neverylei...ivlazy...gotwat?datdayüsendmedaurl...  "
      ]
     },
     "execution_count": 19,
     "metadata": {},
     "output_type": "execute_result"
    }
   ],
   "source": [
    "data_set['label']=data_set.label.map({\"ham\":0,\"spam\":1})\n",
    "data_set.head()"
   ]
  },
  {
   "cell_type": "markdown",
   "id": "8f4f51cf",
   "metadata": {},
   "source": [
    "# split data for training and testing"
   ]
  },
  {
   "cell_type": "code",
   "execution_count": 20,
   "id": "39c35a74",
   "metadata": {},
   "outputs": [
    {
     "name": "stdout",
     "output_type": "stream",
     "text": [
      "all data rows 4179\n",
      "train data rows 3134\n",
      "test data rows 1045\n"
     ]
    }
   ],
   "source": [
    "from sklearn.model_selection import train_test_split\n",
    "X_train,X_test,y_train,y_test=train_test_split(data_set[\"new message\"],data_set[\"label\"],random_state=1)\n",
    "print(\"all data rows %d\"%(data_set.shape[0]))\n",
    "print(\"train data rows %d\"%(X_train.shape[0]))\n",
    "print(\"test data rows %d\"%(X_test.shape[0]))"
   ]
  },
  {
   "cell_type": "markdown",
   "id": "290c5f84",
   "metadata": {},
   "source": [
    "# text to numbres"
   ]
  },
  {
   "cell_type": "code",
   "execution_count": 21,
   "id": "066a8d49",
   "metadata": {},
   "outputs": [],
   "source": [
    "from sklearn.feature_extraction.text import CountVectorizer\n",
    "countVectorizer=CountVectorizer()\n",
    "training_data=countVectorizer.fit_transform(X_train)\n",
    "testing_data=countVectorizer.transform(X_test)"
   ]
  },
  {
   "cell_type": "code",
   "execution_count": 22,
   "id": "ed03497d",
   "metadata": {},
   "outputs": [
    {
     "data": {
      "text/plain": [
       "<3134x8019 sparse matrix of type '<class 'numpy.int64'>'\n",
       "\twith 10596 stored elements in Compressed Sparse Row format>"
      ]
     },
     "execution_count": 22,
     "metadata": {},
     "output_type": "execute_result"
    }
   ],
   "source": [
    "training_data"
   ]
  },
  {
   "cell_type": "markdown",
   "id": "c69283bc",
   "metadata": {},
   "source": [
    "# making the model"
   ]
  },
  {
   "cell_type": "code",
   "execution_count": 23,
   "id": "5192ec78",
   "metadata": {},
   "outputs": [
    {
     "data": {
      "text/plain": [
       "MultinomialNB()"
      ]
     },
     "execution_count": 23,
     "metadata": {},
     "output_type": "execute_result"
    }
   ],
   "source": [
    "from sklearn.naive_bayes import MultinomialNB\n",
    "_naive_bayes=MultinomialNB()\n",
    "_naive_bayes.fit(training_data,y_train)"
   ]
  },
  {
   "cell_type": "markdown",
   "id": "7516effa",
   "metadata": {},
   "source": [
    "# predicting from test data"
   ]
  },
  {
   "cell_type": "code",
   "execution_count": 24,
   "id": "bd2f9dce",
   "metadata": {},
   "outputs": [
    {
     "data": {
      "text/plain": [
       "array([0, 0, 1, ..., 0, 0, 0])"
      ]
     },
     "execution_count": 24,
     "metadata": {},
     "output_type": "execute_result"
    }
   ],
   "source": [
    "predictions=_naive_bayes.predict(testing_data)\n",
    "predictions"
   ]
  },
  {
   "cell_type": "markdown",
   "id": "91d2c6e0",
   "metadata": {},
   "source": [
    "# accurancy and testing our model"
   ]
  },
  {
   "cell_type": "code",
   "execution_count": 25,
   "id": "6a0368a0",
   "metadata": {},
   "outputs": [
    {
     "name": "stdout",
     "output_type": "stream",
     "text": [
      "Accuracy 0.9464114832535885\n",
      "Precision 0.9896907216494846\n",
      "Recall 0.6357615894039735\n",
      "F1 score 0.7741935483870968\n"
     ]
    }
   ],
   "source": [
    "from sklearn.metrics import accuracy_score,precision_score,recall_score,f1_score\n",
    "print(\"Accuracy %s\"%(str(accuracy_score(y_test,predictions))))\n",
    "print(\"Precision %s\"%(str(precision_score(y_test,predictions))))\n",
    "print(\"Recall %s\"%(str(recall_score(y_test,predictions))))\n",
    "print(\"F1 score %s\"%(str(f1_score(y_test,predictions))))"
   ]
  },
  {
   "cell_type": "code",
   "execution_count": 26,
   "id": "60511bc3",
   "metadata": {},
   "outputs": [],
   "source": [
    "# function to predict messages based on model\n",
    "# (should return list containing prediction and label, ex. [0.008318834938108921, 'ham'])\n",
    "def predict_message(pred_text):\n",
    "    seri=pd.Series(pred_text)\n",
    "    num=countVectorizer.transform(seri)\n",
    "    prediction=_naive_bayes.predict(num)\n",
    "    p=\"ham\"\n",
    "    if prediction[0]==1:\n",
    "        p=\"spam\"\n",
    "    return p\n"
   ]
  },
  {
   "cell_type": "code",
   "execution_count": 27,
   "id": "bf9b3910",
   "metadata": {},
   "outputs": [
    {
     "name": "stdout",
     "output_type": "stream",
     "text": [
      "ham\n"
     ]
    }
   ],
   "source": [
    "pred_text = \"how are you doing today?\"\n",
    "\n",
    "prediction = predict_message(pred_text)\n",
    "print(prediction)"
   ]
  },
  {
   "cell_type": "code",
   "execution_count": 28,
   "id": "6c7dd9db",
   "metadata": {},
   "outputs": [],
   "source": [
    "# Run this cell to test your function and model. Do not modify contents.\n",
    "def test_predictions():\n",
    "    test_messages = [\"how are you doing today\",\"sale today! to stop texts call 98912460324\",\"i dont want to go. can we try it a different day? available sat\",\"our new mobile video service is live. just install on your phone to start watching.\",\"you have won £1000 cash! call to claim your prize.\",\"i'll bring it tomorrow. don't forget the milk.\",\"wow, is your arm alright. that happened to me one time too\"]\n",
    "    test_answers = [\"ham\", \"spam\", \"ham\", \"spam\", \"spam\", \"ham\", \"ham\"]\n",
    "    passed = True\n",
    "    for msg, ans in zip(test_messages, test_answers):\n",
    "        prediction = predict_message(msg)\n",
    "        if prediction != ans:\n",
    "            passed = False\n",
    "    if passed:\n",
    "        print(\"You passed the challenge. Great job!\")\n",
    "    else:\n",
    "        print(\"You haven't passed yet. Keep trying.\")"
   ]
  },
  {
   "cell_type": "code",
   "execution_count": 29,
   "id": "10f4bfc5",
   "metadata": {},
   "outputs": [
    {
     "name": "stdout",
     "output_type": "stream",
     "text": [
      "You haven't passed yet. Keep trying.\n"
     ]
    }
   ],
   "source": [
    "test_predictions()"
   ]
  }
 ],
 "metadata": {
  "kernelspec": {
   "display_name": "Python 3 (ipykernel)",
   "language": "python",
   "name": "python3"
  },
  "language_info": {
   "codemirror_mode": {
    "name": "ipython",
    "version": 3
   },
   "file_extension": ".py",
   "mimetype": "text/x-python",
   "name": "python",
   "nbconvert_exporter": "python",
   "pygments_lexer": "ipython3",
   "version": "3.8.10"
  }
 },
 "nbformat": 4,
 "nbformat_minor": 5
}
