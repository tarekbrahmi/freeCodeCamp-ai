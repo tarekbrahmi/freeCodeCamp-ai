{
 "cells": [
  {
   "cell_type": "markdown",
   "id": "1af4556d",
   "metadata": {},
   "source": [
    "In this challenge, you will predict healthcare costs using a regression algorithm.\n",
    "\n",
    "You are given a dataset that contains information about different people including their healthcare costs. Use the data to predict healthcare costs based on new data.\n",
    "\n",
    "The first two cells of this notebook import libraries and the data.\n",
    "\n",
    "Make sure to convert categorical data to numbers. Use 80% of the data as the `train_dataset` and 20% of the data as the `test_dataset`.\n",
    "\n",
    "`pop` off the \"expenses\" column from these datasets to create new datasets called `train_labels` and `test_labels`. Use these labels when training your model.\n",
    "\n",
    "Create a model and train it with the `train_dataset`. Run the final cell in this notebook to check your model. The final cell will use the unseen `test_dataset` to check how well the model generalizes.\n",
    "\n",
    "To pass the challenge, `model.evaluate` must return a Mean Absolute Error of under 3500. This means it predicts health care costs correctly within $3500.\n",
    "\n",
    "The final cell will also predict expenses using the `test_dataset` and graph the results."
   ]
  },
  {
   "cell_type": "code",
   "execution_count": 19,
   "id": "005c7ac2",
   "metadata": {},
   "outputs": [],
   "source": [
    "import matplotlib.pyplot as plt\n",
    "import numpy as np\n",
    "import pandas as pd\n",
    "\n",
    "\n",
    "import tensorflow as tf\n",
    "\n",
    "from tensorflow import keras\n",
    "from tensorflow.keras import layers\n",
    "\n",
    "#import tensorflow_docs as tfdocs\n",
    "#import tensorflow_docs.plots\n",
    "#import tensorflow_docs.modeling"
   ]
  },
  {
   "cell_type": "code",
   "execution_count": 20,
   "id": "f413d594",
   "metadata": {},
   "outputs": [
    {
     "data": {
      "text/html": [
       "<div>\n",
       "<style scoped>\n",
       "    .dataframe tbody tr th:only-of-type {\n",
       "        vertical-align: middle;\n",
       "    }\n",
       "\n",
       "    .dataframe tbody tr th {\n",
       "        vertical-align: top;\n",
       "    }\n",
       "\n",
       "    .dataframe thead th {\n",
       "        text-align: right;\n",
       "    }\n",
       "</style>\n",
       "<table border=\"1\" class=\"dataframe\">\n",
       "  <thead>\n",
       "    <tr style=\"text-align: right;\">\n",
       "      <th></th>\n",
       "      <th>age</th>\n",
       "      <th>sex</th>\n",
       "      <th>bmi</th>\n",
       "      <th>children</th>\n",
       "      <th>smoker</th>\n",
       "      <th>region</th>\n",
       "      <th>expenses</th>\n",
       "    </tr>\n",
       "  </thead>\n",
       "  <tbody>\n",
       "    <tr>\n",
       "      <th>1333</th>\n",
       "      <td>50</td>\n",
       "      <td>male</td>\n",
       "      <td>31.0</td>\n",
       "      <td>3</td>\n",
       "      <td>no</td>\n",
       "      <td>northwest</td>\n",
       "      <td>10600.55</td>\n",
       "    </tr>\n",
       "    <tr>\n",
       "      <th>1334</th>\n",
       "      <td>18</td>\n",
       "      <td>female</td>\n",
       "      <td>31.9</td>\n",
       "      <td>0</td>\n",
       "      <td>no</td>\n",
       "      <td>northeast</td>\n",
       "      <td>2205.98</td>\n",
       "    </tr>\n",
       "    <tr>\n",
       "      <th>1335</th>\n",
       "      <td>18</td>\n",
       "      <td>female</td>\n",
       "      <td>36.9</td>\n",
       "      <td>0</td>\n",
       "      <td>no</td>\n",
       "      <td>southeast</td>\n",
       "      <td>1629.83</td>\n",
       "    </tr>\n",
       "    <tr>\n",
       "      <th>1336</th>\n",
       "      <td>21</td>\n",
       "      <td>female</td>\n",
       "      <td>25.8</td>\n",
       "      <td>0</td>\n",
       "      <td>no</td>\n",
       "      <td>southwest</td>\n",
       "      <td>2007.95</td>\n",
       "    </tr>\n",
       "    <tr>\n",
       "      <th>1337</th>\n",
       "      <td>61</td>\n",
       "      <td>female</td>\n",
       "      <td>29.1</td>\n",
       "      <td>0</td>\n",
       "      <td>yes</td>\n",
       "      <td>northwest</td>\n",
       "      <td>29141.36</td>\n",
       "    </tr>\n",
       "  </tbody>\n",
       "</table>\n",
       "</div>"
      ],
      "text/plain": [
       "      age     sex   bmi  children smoker     region  expenses\n",
       "1333   50    male  31.0         3     no  northwest  10600.55\n",
       "1334   18  female  31.9         0     no  northeast   2205.98\n",
       "1335   18  female  36.9         0     no  southeast   1629.83\n",
       "1336   21  female  25.8         0     no  southwest   2007.95\n",
       "1337   61  female  29.1         0    yes  northwest  29141.36"
      ]
     },
     "execution_count": 20,
     "metadata": {},
     "output_type": "execute_result"
    }
   ],
   "source": [
    "dataset = pd.read_csv('insurance.csv')\n",
    "dataset.tail()\n"
   ]
  },
  {
   "cell_type": "code",
   "execution_count": 21,
   "id": "2bbfba01",
   "metadata": {},
   "outputs": [
    {
     "data": {
      "text/html": [
       "<div>\n",
       "<style scoped>\n",
       "    .dataframe tbody tr th:only-of-type {\n",
       "        vertical-align: middle;\n",
       "    }\n",
       "\n",
       "    .dataframe tbody tr th {\n",
       "        vertical-align: top;\n",
       "    }\n",
       "\n",
       "    .dataframe thead th {\n",
       "        text-align: right;\n",
       "    }\n",
       "</style>\n",
       "<table border=\"1\" class=\"dataframe\">\n",
       "  <thead>\n",
       "    <tr style=\"text-align: right;\">\n",
       "      <th></th>\n",
       "      <th>age</th>\n",
       "      <th>bmi</th>\n",
       "      <th>children</th>\n",
       "      <th>expenses</th>\n",
       "    </tr>\n",
       "  </thead>\n",
       "  <tbody>\n",
       "    <tr>\n",
       "      <th>count</th>\n",
       "      <td>1338.000000</td>\n",
       "      <td>1338.000000</td>\n",
       "      <td>1338.000000</td>\n",
       "      <td>1338.000000</td>\n",
       "    </tr>\n",
       "    <tr>\n",
       "      <th>mean</th>\n",
       "      <td>39.207025</td>\n",
       "      <td>30.665471</td>\n",
       "      <td>1.094918</td>\n",
       "      <td>13270.422414</td>\n",
       "    </tr>\n",
       "    <tr>\n",
       "      <th>std</th>\n",
       "      <td>14.049960</td>\n",
       "      <td>6.098382</td>\n",
       "      <td>1.205493</td>\n",
       "      <td>12110.011240</td>\n",
       "    </tr>\n",
       "    <tr>\n",
       "      <th>min</th>\n",
       "      <td>18.000000</td>\n",
       "      <td>16.000000</td>\n",
       "      <td>0.000000</td>\n",
       "      <td>1121.870000</td>\n",
       "    </tr>\n",
       "    <tr>\n",
       "      <th>25%</th>\n",
       "      <td>27.000000</td>\n",
       "      <td>26.300000</td>\n",
       "      <td>0.000000</td>\n",
       "      <td>4740.287500</td>\n",
       "    </tr>\n",
       "    <tr>\n",
       "      <th>50%</th>\n",
       "      <td>39.000000</td>\n",
       "      <td>30.400000</td>\n",
       "      <td>1.000000</td>\n",
       "      <td>9382.030000</td>\n",
       "    </tr>\n",
       "    <tr>\n",
       "      <th>75%</th>\n",
       "      <td>51.000000</td>\n",
       "      <td>34.700000</td>\n",
       "      <td>2.000000</td>\n",
       "      <td>16639.915000</td>\n",
       "    </tr>\n",
       "    <tr>\n",
       "      <th>max</th>\n",
       "      <td>64.000000</td>\n",
       "      <td>53.100000</td>\n",
       "      <td>5.000000</td>\n",
       "      <td>63770.430000</td>\n",
       "    </tr>\n",
       "  </tbody>\n",
       "</table>\n",
       "</div>"
      ],
      "text/plain": [
       "               age          bmi     children      expenses\n",
       "count  1338.000000  1338.000000  1338.000000   1338.000000\n",
       "mean     39.207025    30.665471     1.094918  13270.422414\n",
       "std      14.049960     6.098382     1.205493  12110.011240\n",
       "min      18.000000    16.000000     0.000000   1121.870000\n",
       "25%      27.000000    26.300000     0.000000   4740.287500\n",
       "50%      39.000000    30.400000     1.000000   9382.030000\n",
       "75%      51.000000    34.700000     2.000000  16639.915000\n",
       "max      64.000000    53.100000     5.000000  63770.430000"
      ]
     },
     "execution_count": 21,
     "metadata": {},
     "output_type": "execute_result"
    }
   ],
   "source": [
    "dataset.describe()"
   ]
  },
  {
   "cell_type": "code",
   "execution_count": 22,
   "id": "c8395bdf",
   "metadata": {},
   "outputs": [
    {
     "data": {
      "text/plain": [
       "array(['yes', 'no'], dtype=object)"
      ]
     },
     "execution_count": 22,
     "metadata": {},
     "output_type": "execute_result"
    }
   ],
   "source": [
    "dataset['smoker'].unique()"
   ]
  },
  {
   "cell_type": "code",
   "execution_count": 23,
   "id": "deaddce9",
   "metadata": {},
   "outputs": [
    {
     "data": {
      "text/plain": [
       "age         0\n",
       "sex         0\n",
       "bmi         0\n",
       "children    0\n",
       "smoker      0\n",
       "region      0\n",
       "expenses    0\n",
       "dtype: int64"
      ]
     },
     "execution_count": 23,
     "metadata": {},
     "output_type": "execute_result"
    }
   ],
   "source": [
    "dataset.isnull().sum()"
   ]
  },
  {
   "cell_type": "markdown",
   "id": "24ed5c0a",
   "metadata": {},
   "source": [
    "# exploring more the dataset"
   ]
  },
  {
   "cell_type": "code",
   "execution_count": 24,
   "id": "747aed0f",
   "metadata": {},
   "outputs": [
    {
     "data": {
      "image/png": "[encoded data removed]",
      "text/plain": [
       "<Figure size 432x288 with 1 Axes>"
      ]
     },
     "metadata": {},
     "output_type": "display_data"
    }
   ],
   "source": [
    "len_sex_male=dataset[\"sex\"][dataset.sex==\"male\"]\n",
    "len_sex_female=dataset[\"sex\"][dataset.sex==\"female\"]\n",
    "arr=np.array([len(len_sex_male),len(len_sex_female)])\n",
    "labels=[\"male\",\"female\"]\n",
    "plt.pie(arr,labels=labels,explode=[0.1,0.0],shadow=True)\n",
    "plt.show()"
   ]
  },
  {
   "cell_type": "code",
   "execution_count": 25,
   "id": "14c786e4",
   "metadata": {},
   "outputs": [
    {
     "data": {
      "image/png": "[encoded data removed]",
      "text/plain": [
       "<Figure size 432x288 with 1 Axes>"
      ]
     },
     "metadata": {},
     "output_type": "display_data"
    }
   ],
   "source": [
    "len_smoker=dataset[\"smoker\"][dataset.smoker==\"yes\"]\n",
    "len_no_smoker=dataset[\"smoker\"][dataset.smoker==\"no\"]\n",
    "arr=np.array([len(len_smoker),len(len_no_smoker)])\n",
    "labels=[\"smoker\",\"nsmoker\"]\n",
    "plt.pie(arr,labels=labels,explode=[0.1,0.0],shadow=True)\n",
    "plt.show()"
   ]
  },
  {
   "cell_type": "markdown",
   "id": "bc21e4ee",
   "metadata": {},
   "source": [
    "# converting categorical data to numbers (sex , region and smoker)"
   ]
  },
  {
   "cell_type": "code",
   "execution_count": 26,
   "id": "d0d5de64",
   "metadata": {},
   "outputs": [
    {
     "data": {
      "text/html": [
       "<div>\n",
       "<style scoped>\n",
       "    .dataframe tbody tr th:only-of-type {\n",
       "        vertical-align: middle;\n",
       "    }\n",
       "\n",
       "    .dataframe tbody tr th {\n",
       "        vertical-align: top;\n",
       "    }\n",
       "\n",
       "    .dataframe thead th {\n",
       "        text-align: right;\n",
       "    }\n",
       "</style>\n",
       "<table border=\"1\" class=\"dataframe\">\n",
       "  <thead>\n",
       "    <tr style=\"text-align: right;\">\n",
       "      <th></th>\n",
       "      <th>age</th>\n",
       "      <th>sex</th>\n",
       "      <th>bmi</th>\n",
       "      <th>children</th>\n",
       "      <th>smoker</th>\n",
       "      <th>region</th>\n",
       "      <th>expenses</th>\n",
       "    </tr>\n",
       "  </thead>\n",
       "  <tbody>\n",
       "    <tr>\n",
       "      <th>0</th>\n",
       "      <td>19</td>\n",
       "      <td>1</td>\n",
       "      <td>27.9</td>\n",
       "      <td>0</td>\n",
       "      <td>1</td>\n",
       "      <td>3</td>\n",
       "      <td>16884.92</td>\n",
       "    </tr>\n",
       "    <tr>\n",
       "      <th>1</th>\n",
       "      <td>18</td>\n",
       "      <td>0</td>\n",
       "      <td>33.8</td>\n",
       "      <td>1</td>\n",
       "      <td>0</td>\n",
       "      <td>0</td>\n",
       "      <td>1725.55</td>\n",
       "    </tr>\n",
       "    <tr>\n",
       "      <th>2</th>\n",
       "      <td>28</td>\n",
       "      <td>0</td>\n",
       "      <td>33.0</td>\n",
       "      <td>3</td>\n",
       "      <td>0</td>\n",
       "      <td>0</td>\n",
       "      <td>4449.46</td>\n",
       "    </tr>\n",
       "    <tr>\n",
       "      <th>3</th>\n",
       "      <td>33</td>\n",
       "      <td>0</td>\n",
       "      <td>22.7</td>\n",
       "      <td>0</td>\n",
       "      <td>0</td>\n",
       "      <td>1</td>\n",
       "      <td>21984.47</td>\n",
       "    </tr>\n",
       "    <tr>\n",
       "      <th>4</th>\n",
       "      <td>32</td>\n",
       "      <td>0</td>\n",
       "      <td>28.9</td>\n",
       "      <td>0</td>\n",
       "      <td>0</td>\n",
       "      <td>1</td>\n",
       "      <td>3866.86</td>\n",
       "    </tr>\n",
       "  </tbody>\n",
       "</table>\n",
       "</div>"
      ],
      "text/plain": [
       "   age  sex   bmi  children  smoker  region  expenses\n",
       "0   19    1  27.9         0       1       3  16884.92\n",
       "1   18    0  33.8         1       0       0   1725.55\n",
       "2   28    0  33.0         3       0       0   4449.46\n",
       "3   33    0  22.7         0       0       1  21984.47\n",
       "4   32    0  28.9         0       0       1   3866.86"
      ]
     },
     "execution_count": 26,
     "metadata": {},
     "output_type": "execute_result"
    }
   ],
   "source": [
    "dataset['sex']=dataset.sex.map({\"male\":0,\"female\":1})\n",
    "dataset['smoker']=dataset.smoker.map({\"no\":0,\"yes\":1})\n",
    "dataset['region']=dataset.region.map({\"southeast\":0,\"northwest\":1,\"northeast\":2,\"southwest\":3})\n",
    "dataset.head()"
   ]
  },
  {
   "cell_type": "markdown",
   "id": "8de01d16",
   "metadata": {},
   "source": [
    "# spliting data"
   ]
  },
  {
   "cell_type": "code",
   "execution_count": 27,
   "id": "582262f7",
   "metadata": {},
   "outputs": [
    {
     "name": "stdout",
     "output_type": "stream",
     "text": [
      "X_train shape  (1070, 6)\n",
      "X_test shape  (268, 6)\n",
      "y_train shape  (1070,)\n",
      "y_test shape  (268,)\n"
     ]
    }
   ],
   "source": [
    "from sklearn.model_selection import train_test_split\n",
    "X=dataset.drop('expenses',axis=1)\n",
    "y=dataset[\"expenses\"]\n",
    "X_train,X_test,y_train,y_test=train_test_split(X,y,random_state=0,test_size=0.2)\n",
    "print('X_train shape ',X_train.shape)\n",
    "print('X_test shape ',X_test.shape)\n",
    "print('y_train shape ',y_train.shape)\n",
    "print('y_test shape ',y_test.shape)"
   ]
  },
  {
   "cell_type": "code",
   "execution_count": 28,
   "id": "705c6d65",
   "metadata": {},
   "outputs": [],
   "source": [
    "y_train=y_train.apply(lambda x:int(x))"
   ]
  },
  {
   "cell_type": "code",
   "execution_count": 29,
   "id": "51572122",
   "metadata": {},
   "outputs": [],
   "source": [
    "from sklearn.linear_model import LinearRegression\n",
    "lr_clf=LinearRegression()\n",
    "\n"
   ]
  },
  {
   "cell_type": "code",
   "execution_count": 32,
   "id": "02671994",
   "metadata": {},
   "outputs": [],
   "source": [
    "lr_clf.fit(X_train,y_train)\n",
    "predictions=lr_clf.predict(X_test)"
   ]
  },
  {
   "cell_type": "code",
   "execution_count": 33,
   "id": "44d2311d",
   "metadata": {},
   "outputs": [
    {
     "data": {
      "text/plain": [
       "array([11542.2044141 ,  9837.96526773, 37781.52603567, 15927.45301261,\n",
       "        6845.22002435,  3621.92938511,  1147.78678301, 14036.91457662,\n",
       "        8722.11936645,  7207.94857403,  4150.54996915, 10060.96085894,\n",
       "        9172.80477158,  4195.98715396, 27667.88300544, 11070.06305186,\n",
       "       11119.73009192,  5595.00602366,  7983.01070059, 26658.67885886,\n",
       "       33444.20061205, 14043.99283577, 11297.41188051, 32495.20954665,\n",
       "        4439.42936156,  8673.91779878,   790.00518348, 10071.66434881,\n",
       "        4138.38344505, 10154.31412123,  8747.43306815, 40254.34691834,\n",
       "       15987.8629037 , 14171.7495623 , 24405.38326663,  4722.4097569 ,\n",
       "       12831.23755172, 31029.64461567, 33245.20775771,  3981.9901262 ,\n",
       "        3668.20060988,  4318.14227071, 30112.0147419 , 39167.40482517,\n",
       "       28043.47496056,  4769.68608554, 10940.90302304,  7606.09702604,\n",
       "        3212.55040261, 10642.62392755,  5198.886927  ,  3137.64300793,\n",
       "       33413.92210822, 37928.60912832, 16249.82604403,  6613.53896439,\n",
       "        5975.39709637,  9249.50119436,  9248.53415601, 11547.27116989,\n",
       "        2220.86036687, 38644.58308321, 15179.63493066, 12138.17183359,\n",
       "       13484.92138836, 14311.30070227, 26146.20886691, 31874.94428392,\n",
       "        1218.12627836,  9864.39678155, 12783.30785908, 11880.97668546,\n",
       "       25625.05764304, 15909.48520825, 11043.81759337, 12270.49688185,\n",
       "        7034.7613377 ,  9899.82320163, 29792.52947551, 39406.80746968,\n",
       "       11638.64934876, 37417.24325269,  3954.73826822,  9758.38107991,\n",
       "       34335.82405897, 29209.2692359 ,  8876.91328906,  4651.16581571,\n",
       "       12454.19755379, 30756.57726823,  9485.37746335, 11782.28902919,\n",
       "        7775.11119785,  9239.20242065,  7916.50034327,  6822.05490399,\n",
       "       35577.79552984, 33532.51572513,  7350.2951416 , 15395.28168331,\n",
       "        4306.78118   ,  8498.85613704,  6586.14041223, 31802.24154533,\n",
       "       32708.4047982 ,  1827.11455205,  9518.50037214,  6376.5174151 ,\n",
       "       14097.04607493, 37594.28423468,  9990.19921784, 10691.32750581,\n",
       "        9995.58616572, 26471.91512113, 40067.58318061,  8033.29711872,\n",
       "         739.80286703,  9442.55926702, 15554.03824539,  9286.76675828,\n",
       "       35385.32822868,  7164.63194365, 17261.15440223,  9051.62615214,\n",
       "        8652.67650357,  2772.09042409, 32502.29856039, 31301.69904586,\n",
       "       39886.87474618,  5249.82670913,  9630.17065985,  3847.64281999,\n",
       "        7964.24821742,  8276.9718402 , 32103.18974503, 30322.85456358,\n",
       "       30166.81226863,  9124.8916353 , 32869.53170091,  3119.48091246,\n",
       "        3401.4519671 , 10911.14080524, 13369.70321595, 12399.6283041 ,\n",
       "        5244.54171491, 15873.7070483 , 15188.53863785,  2211.79921091,\n",
       "        -135.62818848, 10469.99885615,  6994.86603072, 31995.08495609,\n",
       "       11901.22363138,  2620.62254622,  6060.4916949 ,  8183.30196235,\n",
       "        4156.24929575,  2426.882503  , 11102.01207378, 12210.33677697,\n",
       "        6737.21009168, 16602.39599643, 11625.03772305, 14354.92319362,\n",
       "        2842.61303356,  6723.15552702, 23582.94285778,  7099.40508299,\n",
       "        5060.92514465,  5378.45969734,  6439.17002781,  4756.26051516,\n",
       "        9730.18784893,  5627.18332262,  6058.7789551 ,  6881.79938087,\n",
       "        3303.21019097,  5420.8409944 , 37589.13631843,  1062.24924555,\n",
       "       12346.57506494,  8672.35998893, 13487.36507608,  5681.29887879,\n",
       "        4799.91161308, 36070.01857587,  3889.81726852,  2436.35261196,\n",
       "       14969.24586129, 12162.95849468, 34658.82608466,  5075.48637912,\n",
       "        6097.38114922, 31631.22368353,  5849.38423502,  2558.60968237,\n",
       "        7953.86786085,  9481.8893106 ,  8208.48510383,  5545.616238  ,\n",
       "       12686.6768691 , 38776.0848461 , 13466.26085884, 29258.77172981,\n",
       "        6464.48372952, 35764.27125858,  3345.96465642, 12181.25652973,\n",
       "        9306.37395534,  6390.78240481, 11072.4888876 , 14104.05098699,\n",
       "        4914.49003663,  4778.77584806,  8286.99335951,  1783.64950947,\n",
       "        7416.19687543,  4041.62613168, 13234.39016701,  3938.57448338,\n",
       "       10349.89036709,  6813.17980336,  9696.52314601,  2027.48991549,\n",
       "       13601.02249744, 16530.49869124, 15174.4840732 , 11050.1119283 ,\n",
       "        5698.53215868,  2588.43449268,  2225.37147547, 12919.65461846,\n",
       "       14341.22746624,  4504.74146228,  4174.95628381,  9812.39468241,\n",
       "        9575.47508678, 27807.16650722,  7199.93855809, 10114.73542982,\n",
       "        6728.4340035 , 29459.27341663, 11415.56255848,  7131.10431869,\n",
       "        9943.03136061, 11991.45833278,  2552.66708731, 10561.95705193,\n",
       "        1166.12417922,  6640.54397738, 28784.34828479, 39041.0795851 ,\n",
       "        6656.67377628,  8332.49427519,  2084.19699194,    61.25902221,\n",
       "       10888.53133206,  4442.04948841,  4685.73790569,  2739.34672336,\n",
       "        7256.32544244, 33815.38341223, 37781.3889577 , 14507.41402734,\n",
       "        8029.35527244, 15585.87455907, 33094.46121157,  9060.39572256])"
      ]
     },
     "execution_count": 33,
     "metadata": {},
     "output_type": "execute_result"
    }
   ],
   "source": [
    "predictions"
   ]
  },
  {
   "cell_type": "code",
   "execution_count": null,
   "id": "ad142f88",
   "metadata": {},
   "outputs": [],
   "source": [
    "model=None"
   ]
  },
  {
   "cell_type": "code",
   "execution_count": 34,
   "id": "b7d8df78",
   "metadata": {},
   "outputs": [
    {
     "ename": "AttributeError",
     "evalue": "'LinearRegression' object has no attribute 'evaluate'",
     "output_type": "error",
     "traceback": [
      "\u001b[0;31m---------------------------------------------------------------------------\u001b[0m",
      "\u001b[0;31mAttributeError\u001b[0m                            Traceback (most recent call last)",
      "Input \u001b[0;32mIn [34]\u001b[0m, in \u001b[0;36m<cell line: 3>\u001b[0;34m()\u001b[0m\n\u001b[1;32m      1\u001b[0m \u001b[38;5;66;03m# RUN THIS CELL TO TEST YOUR MODEL. DO NOT MODIFY CONTENTS.\u001b[39;00m\n\u001b[1;32m      2\u001b[0m \u001b[38;5;66;03m# Test model by checking how well the model generalizes using the test set.\u001b[39;00m\n\u001b[0;32m----> 3\u001b[0m loss, mae, mse \u001b[38;5;241m=\u001b[39m \u001b[43mlr_clf\u001b[49m\u001b[38;5;241;43m.\u001b[39;49m\u001b[43mevaluate\u001b[49m(test_dataset, test_labels, verbose\u001b[38;5;241m=\u001b[39m\u001b[38;5;241m2\u001b[39m)\n\u001b[1;32m      5\u001b[0m \u001b[38;5;28mprint\u001b[39m(\u001b[38;5;124m\"\u001b[39m\u001b[38;5;124mTesting set Mean Abs Error: \u001b[39m\u001b[38;5;132;01m{:5.2f}\u001b[39;00m\u001b[38;5;124m expenses\u001b[39m\u001b[38;5;124m\"\u001b[39m\u001b[38;5;241m.\u001b[39mformat(mae))\n",
      "\u001b[0;31mAttributeError\u001b[0m: 'LinearRegression' object has no attribute 'evaluate'"
     ]
    }
   ],
   "source": [
    "# RUN THIS CELL TO TEST YOUR MODEL. DO NOT MODIFY CONTENTS.\n",
    "# Test model by checking how well the model generalizes using the test set.\n",
    "loss, mae, mse = lr_clf.evaluate(test_dataset, test_labels, verbose=2)\n",
    "\n",
    "print(\"Testing set Mean Abs Error: {:5.2f} expenses\".format(mae))\n"
   ]
  },
  {
   "cell_type": "code",
   "execution_count": null,
   "id": "e8ec1c27",
   "metadata": {},
   "outputs": [],
   "source": [
    "if mae < 3500:\n",
    "  print(\"You passed the challenge. Great job!\")\n",
    "else:\n",
    "  print(\"The Mean Abs Error must be less than 3500. Keep trying.\")\n",
    "\n",
    "# Plot predictions.\n",
    "test_predictions = model.predict(test_dataset).flatten()\n",
    "\n",
    "a = plt.axes(aspect='equal')\n",
    "plt.scatter(test_labels, test_predictions)\n",
    "plt.xlabel('True values (expenses)')\n",
    "plt.ylabel('Predictions (expenses)')\n",
    "lims = [0, 50000]\n",
    "plt.xlim(lims)\n",
    "plt.ylim(lims)\n",
    "_ = plt.plot(lims,lims)"
   ]
  },
  {
   "cell_type": "code",
   "execution_count": null,
   "id": "61a2a794",
   "metadata": {},
   "outputs": [],
   "source": []
  },
  {
   "cell_type": "code",
   "execution_count": null,
   "id": "035edba2",
   "metadata": {},
   "outputs": [],
   "source": []
  }
 ],
 "metadata": {
  "kernelspec": {
   "display_name": "Python 3 (ipykernel)",
   "language": "python",
   "name": "python3"
  },
  "language_info": {
   "codemirror_mode": {
    "name": "ipython",
    "version": 3
   },
   "file_extension": ".py",
   "mimetype": "text/x-python",
   "name": "python",
   "nbconvert_exporter": "python",
   "pygments_lexer": "ipython3",
   "version": "3.8.10"
  }
 },
 "nbformat": 4,
 "nbformat_minor": 5
}
