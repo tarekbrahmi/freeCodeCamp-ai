{
 "cells": [
  {
   "cell_type": "code",
   "execution_count": 90,
   "id": "a637f5d6",
   "metadata": {},
   "outputs": [],
   "source": [
    "import numpy as np\n",
    "import pandas as pd\n",
    "from scipy.sparse import csr_matrix\n",
    "from sklearn.neighbors import NearestNeighbors\n",
    "import matplotlib.pyplot as plt"
   ]
  },
  {
   "cell_type": "code",
   "execution_count": 91,
   "id": "d41a347b",
   "metadata": {},
   "outputs": [],
   "source": [
    "books_filename = 'BX-Books.csv'\n",
    "ratings_filename = 'BX-Book-Ratings.csv'"
   ]
  },
  {
   "cell_type": "code",
   "execution_count": 92,
   "id": "08a213d6",
   "metadata": {},
   "outputs": [],
   "source": [
    "# import csv data into dataframes\n",
    "df_books = pd.read_csv(\n",
    "    books_filename,\n",
    "    encoding = \"ISO-8859-1\",\n",
    "    sep=\";\",\n",
    "    header=0,\n",
    "    names=['isbn', 'title', 'author'],\n",
    "    usecols=['isbn', 'title', 'author'],\n",
    "    dtype={'isbn': 'str', 'title': 'str', 'author': 'str'})"
   ]
  },
  {
   "cell_type": "code",
   "execution_count": 93,
   "id": "39172ff2",
   "metadata": {},
   "outputs": [
    {
     "data": {
      "text/plain": [
       "(271379, 3)"
      ]
     },
     "execution_count": 93,
     "metadata": {},
     "output_type": "execute_result"
    }
   ],
   "source": [
    "df_books.shape"
   ]
  },
  {
   "cell_type": "code",
   "execution_count": 94,
   "id": "a2da9985",
   "metadata": {},
   "outputs": [
    {
     "data": {
      "text/plain": [
       "isbn      0\n",
       "title     0\n",
       "author    1\n",
       "dtype: int64"
      ]
     },
     "execution_count": 94,
     "metadata": {},
     "output_type": "execute_result"
    }
   ],
   "source": [
    "df_books.isnull().sum()"
   ]
  },
  {
   "cell_type": "markdown",
   "id": "10b787ba",
   "metadata": {},
   "source": [
    "# Remove null rows"
   ]
  },
  {
   "cell_type": "code",
   "execution_count": 95,
   "id": "8cec0898",
   "metadata": {},
   "outputs": [
    {
     "data": {
      "text/plain": [
       "isbn      0\n",
       "title     0\n",
       "author    0\n",
       "dtype: int64"
      ]
     },
     "execution_count": 95,
     "metadata": {},
     "output_type": "execute_result"
    }
   ],
   "source": [
    "df_books.dropna(inplace=True)\n",
    "df_books.isnull().sum()"
   ]
  },
  {
   "cell_type": "code",
   "execution_count": 96,
   "id": "03700fd9",
   "metadata": {},
   "outputs": [],
   "source": [
    "# import csv data into dataframes\n",
    "df_ratings = pd.read_csv(\n",
    "    ratings_filename,\n",
    "    encoding = \"ISO-8859-1\",\n",
    "    sep=\";\",\n",
    "    header=0,\n",
    "    names=['user', 'isbn', 'rating'],\n",
    "    usecols=['user', 'isbn', 'rating'],\n",
    "    dtype={'user': 'int32', 'isbn': 'str', 'rating': 'float32'})"
   ]
  },
  {
   "cell_type": "code",
   "execution_count": 97,
   "id": "c3a134a0",
   "metadata": {},
   "outputs": [
    {
     "data": {
      "text/plain": [
       "user      0\n",
       "isbn      0\n",
       "rating    0\n",
       "dtype: int64"
      ]
     },
     "execution_count": 97,
     "metadata": {},
     "output_type": "execute_result"
    }
   ],
   "source": [
    "df_ratings.isnull().sum()"
   ]
  },
  {
   "cell_type": "code",
   "execution_count": 98,
   "id": "4c6df35a",
   "metadata": {},
   "outputs": [
    {
     "data": {
      "text/plain": [
       "(1149780, 3)"
      ]
     },
     "execution_count": 98,
     "metadata": {},
     "output_type": "execute_result"
    }
   ],
   "source": [
    "df_ratings.shape"
   ]
  },
  {
   "cell_type": "markdown",
   "id": "6935bd0f",
   "metadata": {},
   "source": [
    "### remove from the dataset users with less than 200 ratings and books with less than 100 ratings."
   ]
  },
  {
   "cell_type": "code",
   "execution_count": 99,
   "id": "70c8bf26",
   "metadata": {},
   "outputs": [
    {
     "data": {
      "text/plain": [
       "11676     13602\n",
       "198711     7550\n",
       "153662     6109\n",
       "98391      5891\n",
       "35859      5850\n",
       "Name: user, dtype: int64"
      ]
     },
     "execution_count": 99,
     "metadata": {},
     "output_type": "execute_result"
    }
   ],
   "source": [
    "ratings = df_ratings['user'].value_counts()\n",
    "ratings.sort_values(ascending=False).head()"
   ]
  },
  {
   "cell_type": "code",
   "execution_count": 100,
   "id": "e7190ce1",
   "metadata": {},
   "outputs": [
    {
     "data": {
      "text/plain": [
       "622224"
      ]
     },
     "execution_count": 100,
     "metadata": {},
     "output_type": "execute_result"
    }
   ],
   "source": [
    "df_ratings['user'].isin(ratings[ratings < 200].index).sum()"
   ]
  },
  {
   "cell_type": "code",
   "execution_count": 101,
   "id": "1a588d58",
   "metadata": {},
   "outputs": [
    {
     "data": {
      "text/plain": [
       "(527556, 3)"
      ]
     },
     "execution_count": 101,
     "metadata": {},
     "output_type": "execute_result"
    }
   ],
   "source": [
    "df_ratings_rm = df_ratings[~df_ratings['user'].isin(ratings[ratings < 200].index)]\n",
    "df_ratings_rm.shape"
   ]
  },
  {
   "cell_type": "code",
   "execution_count": 102,
   "id": "02c8589d",
   "metadata": {},
   "outputs": [
    {
     "data": {
      "text/plain": [
       "0971880107    2502\n",
       "0316666343    1295\n",
       "0385504209     883\n",
       "0060928336     732\n",
       "0312195516     723\n",
       "Name: isbn, dtype: int64"
      ]
     },
     "execution_count": 102,
     "metadata": {},
     "output_type": "execute_result"
    }
   ],
   "source": [
    "ratings = df_ratings['isbn'].value_counts()\n",
    "ratings.sort_values(ascending=False).head()"
   ]
  },
  {
   "cell_type": "code",
   "execution_count": 103,
   "id": "589679e1",
   "metadata": {},
   "outputs": [
    {
     "data": {
      "text/plain": [
       "(49781, 3)"
      ]
     },
     "execution_count": 103,
     "metadata": {},
     "output_type": "execute_result"
    }
   ],
   "source": [
    "len(ratings[ratings < 100])\n",
    "df_books['isbn'].isin(ratings[ratings < 100].index).sum()\n",
    "df_ratings_rm = df_ratings_rm[~df_ratings_rm['isbn'].isin(ratings[ratings < 100].index)]\n",
    "df_ratings_rm.shape"
   ]
  },
  {
   "cell_type": "code",
   "execution_count": 104,
   "id": "5cc0b7b8",
   "metadata": {},
   "outputs": [
    {
     "name": "stdout",
     "output_type": "stream",
     "text": [
      "183\n",
      "75\n",
      "49\n",
      "57\n",
      "77\n"
     ]
    }
   ],
   "source": [
    "books=[\"Where the Heart Is (Oprah's Book Club (Paperback))\",\"I'll Be Seeing You\", 'The Weight of Water', 'The Surgeon', 'I Know This Much Is True']\n",
    "for book in books:\n",
    "    print(df_ratings_rm.isbn.isin(df_books[df_books.title == book].isbn).sum())"
   ]
  },
  {
   "cell_type": "code",
   "execution_count": 105,
   "id": "807eacab",
   "metadata": {},
   "outputs": [
    {
     "data": {
      "text/html": [
       "<div>\n",
       "<style scoped>\n",
       "    .dataframe tbody tr th:only-of-type {\n",
       "        vertical-align: middle;\n",
       "    }\n",
       "\n",
       "    .dataframe tbody tr th {\n",
       "        vertical-align: top;\n",
       "    }\n",
       "\n",
       "    .dataframe thead th {\n",
       "        text-align: right;\n",
       "    }\n",
       "</style>\n",
       "<table border=\"1\" class=\"dataframe\">\n",
       "  <thead>\n",
       "    <tr style=\"text-align: right;\">\n",
       "      <th>user</th>\n",
       "      <th>254</th>\n",
       "      <th>2276</th>\n",
       "      <th>2766</th>\n",
       "      <th>2977</th>\n",
       "      <th>3363</th>\n",
       "      <th>4017</th>\n",
       "      <th>4385</th>\n",
       "      <th>6242</th>\n",
       "      <th>6251</th>\n",
       "      <th>6323</th>\n",
       "      <th>...</th>\n",
       "      <th>274004</th>\n",
       "      <th>274061</th>\n",
       "      <th>274301</th>\n",
       "      <th>274308</th>\n",
       "      <th>274808</th>\n",
       "      <th>275970</th>\n",
       "      <th>277427</th>\n",
       "      <th>277478</th>\n",
       "      <th>277639</th>\n",
       "      <th>278418</th>\n",
       "    </tr>\n",
       "    <tr>\n",
       "      <th>isbn</th>\n",
       "      <th></th>\n",
       "      <th></th>\n",
       "      <th></th>\n",
       "      <th></th>\n",
       "      <th></th>\n",
       "      <th></th>\n",
       "      <th></th>\n",
       "      <th></th>\n",
       "      <th></th>\n",
       "      <th></th>\n",
       "      <th></th>\n",
       "      <th></th>\n",
       "      <th></th>\n",
       "      <th></th>\n",
       "      <th></th>\n",
       "      <th></th>\n",
       "      <th></th>\n",
       "      <th></th>\n",
       "      <th></th>\n",
       "      <th></th>\n",
       "      <th></th>\n",
       "    </tr>\n",
       "  </thead>\n",
       "  <tbody>\n",
       "    <tr>\n",
       "      <th>002542730X</th>\n",
       "      <td>0.0</td>\n",
       "      <td>0.0</td>\n",
       "      <td>0.0</td>\n",
       "      <td>0.0</td>\n",
       "      <td>0.0</td>\n",
       "      <td>0.0</td>\n",
       "      <td>0.0</td>\n",
       "      <td>0.0</td>\n",
       "      <td>0.0</td>\n",
       "      <td>0.0</td>\n",
       "      <td>...</td>\n",
       "      <td>0.0</td>\n",
       "      <td>0.0</td>\n",
       "      <td>0.0</td>\n",
       "      <td>0.0</td>\n",
       "      <td>0.0</td>\n",
       "      <td>0.0</td>\n",
       "      <td>10.0</td>\n",
       "      <td>0.0</td>\n",
       "      <td>0.0</td>\n",
       "      <td>0.0</td>\n",
       "    </tr>\n",
       "    <tr>\n",
       "      <th>0060008032</th>\n",
       "      <td>0.0</td>\n",
       "      <td>0.0</td>\n",
       "      <td>0.0</td>\n",
       "      <td>0.0</td>\n",
       "      <td>0.0</td>\n",
       "      <td>0.0</td>\n",
       "      <td>0.0</td>\n",
       "      <td>0.0</td>\n",
       "      <td>0.0</td>\n",
       "      <td>0.0</td>\n",
       "      <td>...</td>\n",
       "      <td>0.0</td>\n",
       "      <td>0.0</td>\n",
       "      <td>0.0</td>\n",
       "      <td>0.0</td>\n",
       "      <td>0.0</td>\n",
       "      <td>0.0</td>\n",
       "      <td>0.0</td>\n",
       "      <td>0.0</td>\n",
       "      <td>0.0</td>\n",
       "      <td>0.0</td>\n",
       "    </tr>\n",
       "    <tr>\n",
       "      <th>0060096195</th>\n",
       "      <td>0.0</td>\n",
       "      <td>0.0</td>\n",
       "      <td>0.0</td>\n",
       "      <td>0.0</td>\n",
       "      <td>0.0</td>\n",
       "      <td>0.0</td>\n",
       "      <td>0.0</td>\n",
       "      <td>0.0</td>\n",
       "      <td>0.0</td>\n",
       "      <td>0.0</td>\n",
       "      <td>...</td>\n",
       "      <td>0.0</td>\n",
       "      <td>0.0</td>\n",
       "      <td>0.0</td>\n",
       "      <td>0.0</td>\n",
       "      <td>0.0</td>\n",
       "      <td>0.0</td>\n",
       "      <td>0.0</td>\n",
       "      <td>0.0</td>\n",
       "      <td>0.0</td>\n",
       "      <td>0.0</td>\n",
       "    </tr>\n",
       "    <tr>\n",
       "      <th>006016848X</th>\n",
       "      <td>0.0</td>\n",
       "      <td>0.0</td>\n",
       "      <td>0.0</td>\n",
       "      <td>0.0</td>\n",
       "      <td>0.0</td>\n",
       "      <td>0.0</td>\n",
       "      <td>0.0</td>\n",
       "      <td>0.0</td>\n",
       "      <td>0.0</td>\n",
       "      <td>0.0</td>\n",
       "      <td>...</td>\n",
       "      <td>0.0</td>\n",
       "      <td>0.0</td>\n",
       "      <td>0.0</td>\n",
       "      <td>0.0</td>\n",
       "      <td>0.0</td>\n",
       "      <td>0.0</td>\n",
       "      <td>0.0</td>\n",
       "      <td>0.0</td>\n",
       "      <td>0.0</td>\n",
       "      <td>0.0</td>\n",
       "    </tr>\n",
       "    <tr>\n",
       "      <th>0060173289</th>\n",
       "      <td>0.0</td>\n",
       "      <td>0.0</td>\n",
       "      <td>0.0</td>\n",
       "      <td>0.0</td>\n",
       "      <td>0.0</td>\n",
       "      <td>0.0</td>\n",
       "      <td>0.0</td>\n",
       "      <td>0.0</td>\n",
       "      <td>0.0</td>\n",
       "      <td>0.0</td>\n",
       "      <td>...</td>\n",
       "      <td>0.0</td>\n",
       "      <td>0.0</td>\n",
       "      <td>0.0</td>\n",
       "      <td>0.0</td>\n",
       "      <td>0.0</td>\n",
       "      <td>0.0</td>\n",
       "      <td>0.0</td>\n",
       "      <td>0.0</td>\n",
       "      <td>0.0</td>\n",
       "      <td>0.0</td>\n",
       "    </tr>\n",
       "  </tbody>\n",
       "</table>\n",
       "<p>5 rows × 888 columns</p>\n",
       "</div>"
      ],
      "text/plain": [
       "user        254     2276    2766    2977    3363    4017    4385    6242    \\\n",
       "isbn                                                                         \n",
       "002542730X     0.0     0.0     0.0     0.0     0.0     0.0     0.0     0.0   \n",
       "0060008032     0.0     0.0     0.0     0.0     0.0     0.0     0.0     0.0   \n",
       "0060096195     0.0     0.0     0.0     0.0     0.0     0.0     0.0     0.0   \n",
       "006016848X     0.0     0.0     0.0     0.0     0.0     0.0     0.0     0.0   \n",
       "0060173289     0.0     0.0     0.0     0.0     0.0     0.0     0.0     0.0   \n",
       "\n",
       "user        6251    6323    ...  274004  274061  274301  274308  274808  \\\n",
       "isbn                        ...                                           \n",
       "002542730X     0.0     0.0  ...     0.0     0.0     0.0     0.0     0.0   \n",
       "0060008032     0.0     0.0  ...     0.0     0.0     0.0     0.0     0.0   \n",
       "0060096195     0.0     0.0  ...     0.0     0.0     0.0     0.0     0.0   \n",
       "006016848X     0.0     0.0  ...     0.0     0.0     0.0     0.0     0.0   \n",
       "0060173289     0.0     0.0  ...     0.0     0.0     0.0     0.0     0.0   \n",
       "\n",
       "user        275970  277427  277478  277639  278418  \n",
       "isbn                                                \n",
       "002542730X     0.0    10.0     0.0     0.0     0.0  \n",
       "0060008032     0.0     0.0     0.0     0.0     0.0  \n",
       "0060096195     0.0     0.0     0.0     0.0     0.0  \n",
       "006016848X     0.0     0.0     0.0     0.0     0.0  \n",
       "0060173289     0.0     0.0     0.0     0.0     0.0  \n",
       "\n",
       "[5 rows x 888 columns]"
      ]
     },
     "execution_count": 105,
     "metadata": {},
     "output_type": "execute_result"
    }
   ],
   "source": [
    "df = df_ratings_rm.pivot_table(index=['user'],columns=['isbn'],values='rating').fillna(0).T\n",
    "df.head()"
   ]
  },
  {
   "cell_type": "code",
   "execution_count": 106,
   "id": "19d13fa6",
   "metadata": {},
   "outputs": [
    {
     "data": {
      "text/html": [
       "<div>\n",
       "<style scoped>\n",
       "    .dataframe tbody tr th:only-of-type {\n",
       "        vertical-align: middle;\n",
       "    }\n",
       "\n",
       "    .dataframe tbody tr th {\n",
       "        vertical-align: top;\n",
       "    }\n",
       "\n",
       "    .dataframe thead th {\n",
       "        text-align: right;\n",
       "    }\n",
       "</style>\n",
       "<table border=\"1\" class=\"dataframe\">\n",
       "  <thead>\n",
       "    <tr style=\"text-align: right;\">\n",
       "      <th>user</th>\n",
       "      <th>254</th>\n",
       "      <th>2276</th>\n",
       "      <th>2766</th>\n",
       "      <th>2977</th>\n",
       "      <th>3363</th>\n",
       "      <th>4017</th>\n",
       "      <th>4385</th>\n",
       "      <th>6242</th>\n",
       "      <th>6251</th>\n",
       "      <th>6323</th>\n",
       "      <th>...</th>\n",
       "      <th>274004</th>\n",
       "      <th>274061</th>\n",
       "      <th>274301</th>\n",
       "      <th>274308</th>\n",
       "      <th>274808</th>\n",
       "      <th>275970</th>\n",
       "      <th>277427</th>\n",
       "      <th>277478</th>\n",
       "      <th>277639</th>\n",
       "      <th>278418</th>\n",
       "    </tr>\n",
       "    <tr>\n",
       "      <th>title</th>\n",
       "      <th></th>\n",
       "      <th></th>\n",
       "      <th></th>\n",
       "      <th></th>\n",
       "      <th></th>\n",
       "      <th></th>\n",
       "      <th></th>\n",
       "      <th></th>\n",
       "      <th></th>\n",
       "      <th></th>\n",
       "      <th></th>\n",
       "      <th></th>\n",
       "      <th></th>\n",
       "      <th></th>\n",
       "      <th></th>\n",
       "      <th></th>\n",
       "      <th></th>\n",
       "      <th></th>\n",
       "      <th></th>\n",
       "      <th></th>\n",
       "      <th></th>\n",
       "    </tr>\n",
       "  </thead>\n",
       "  <tbody>\n",
       "    <tr>\n",
       "      <th>1984</th>\n",
       "      <td>9.0</td>\n",
       "      <td>0.0</td>\n",
       "      <td>0.0</td>\n",
       "      <td>0.0</td>\n",
       "      <td>0.0</td>\n",
       "      <td>0.0</td>\n",
       "      <td>0.0</td>\n",
       "      <td>0.0</td>\n",
       "      <td>0.0</td>\n",
       "      <td>0.0</td>\n",
       "      <td>...</td>\n",
       "      <td>0.0</td>\n",
       "      <td>0.0</td>\n",
       "      <td>0.0</td>\n",
       "      <td>0.0</td>\n",
       "      <td>0.0</td>\n",
       "      <td>0.0</td>\n",
       "      <td>0.0</td>\n",
       "      <td>0.0</td>\n",
       "      <td>0.0</td>\n",
       "      <td>0.0</td>\n",
       "    </tr>\n",
       "    <tr>\n",
       "      <th>1st to Die: A Novel</th>\n",
       "      <td>0.0</td>\n",
       "      <td>0.0</td>\n",
       "      <td>0.0</td>\n",
       "      <td>0.0</td>\n",
       "      <td>0.0</td>\n",
       "      <td>0.0</td>\n",
       "      <td>0.0</td>\n",
       "      <td>0.0</td>\n",
       "      <td>0.0</td>\n",
       "      <td>0.0</td>\n",
       "      <td>...</td>\n",
       "      <td>0.0</td>\n",
       "      <td>0.0</td>\n",
       "      <td>0.0</td>\n",
       "      <td>0.0</td>\n",
       "      <td>0.0</td>\n",
       "      <td>0.0</td>\n",
       "      <td>0.0</td>\n",
       "      <td>0.0</td>\n",
       "      <td>0.0</td>\n",
       "      <td>0.0</td>\n",
       "    </tr>\n",
       "    <tr>\n",
       "      <th>1st to Die: A Novel</th>\n",
       "      <td>0.0</td>\n",
       "      <td>0.0</td>\n",
       "      <td>0.0</td>\n",
       "      <td>0.0</td>\n",
       "      <td>0.0</td>\n",
       "      <td>0.0</td>\n",
       "      <td>0.0</td>\n",
       "      <td>0.0</td>\n",
       "      <td>0.0</td>\n",
       "      <td>0.0</td>\n",
       "      <td>...</td>\n",
       "      <td>0.0</td>\n",
       "      <td>0.0</td>\n",
       "      <td>0.0</td>\n",
       "      <td>0.0</td>\n",
       "      <td>0.0</td>\n",
       "      <td>0.0</td>\n",
       "      <td>0.0</td>\n",
       "      <td>0.0</td>\n",
       "      <td>0.0</td>\n",
       "      <td>0.0</td>\n",
       "    </tr>\n",
       "    <tr>\n",
       "      <th>2nd Chance</th>\n",
       "      <td>0.0</td>\n",
       "      <td>0.0</td>\n",
       "      <td>0.0</td>\n",
       "      <td>0.0</td>\n",
       "      <td>0.0</td>\n",
       "      <td>0.0</td>\n",
       "      <td>0.0</td>\n",
       "      <td>0.0</td>\n",
       "      <td>0.0</td>\n",
       "      <td>0.0</td>\n",
       "      <td>...</td>\n",
       "      <td>0.0</td>\n",
       "      <td>0.0</td>\n",
       "      <td>0.0</td>\n",
       "      <td>0.0</td>\n",
       "      <td>0.0</td>\n",
       "      <td>0.0</td>\n",
       "      <td>0.0</td>\n",
       "      <td>0.0</td>\n",
       "      <td>0.0</td>\n",
       "      <td>0.0</td>\n",
       "    </tr>\n",
       "    <tr>\n",
       "      <th>2nd Chance</th>\n",
       "      <td>0.0</td>\n",
       "      <td>10.0</td>\n",
       "      <td>0.0</td>\n",
       "      <td>0.0</td>\n",
       "      <td>0.0</td>\n",
       "      <td>0.0</td>\n",
       "      <td>0.0</td>\n",
       "      <td>0.0</td>\n",
       "      <td>0.0</td>\n",
       "      <td>0.0</td>\n",
       "      <td>...</td>\n",
       "      <td>0.0</td>\n",
       "      <td>0.0</td>\n",
       "      <td>0.0</td>\n",
       "      <td>0.0</td>\n",
       "      <td>0.0</td>\n",
       "      <td>0.0</td>\n",
       "      <td>0.0</td>\n",
       "      <td>0.0</td>\n",
       "      <td>0.0</td>\n",
       "      <td>0.0</td>\n",
       "    </tr>\n",
       "  </tbody>\n",
       "</table>\n",
       "<p>5 rows × 888 columns</p>\n",
       "</div>"
      ],
      "text/plain": [
       "user                 254     2276    2766    2977    3363    4017    4385    \\\n",
       "title                                                                         \n",
       "1984                    9.0     0.0     0.0     0.0     0.0     0.0     0.0   \n",
       "1st to Die: A Novel     0.0     0.0     0.0     0.0     0.0     0.0     0.0   \n",
       "1st to Die: A Novel     0.0     0.0     0.0     0.0     0.0     0.0     0.0   \n",
       "2nd Chance              0.0     0.0     0.0     0.0     0.0     0.0     0.0   \n",
       "2nd Chance              0.0    10.0     0.0     0.0     0.0     0.0     0.0   \n",
       "\n",
       "user                 6242    6251    6323    ...  274004  274061  274301  \\\n",
       "title                                        ...                           \n",
       "1984                    0.0     0.0     0.0  ...     0.0     0.0     0.0   \n",
       "1st to Die: A Novel     0.0     0.0     0.0  ...     0.0     0.0     0.0   \n",
       "1st to Die: A Novel     0.0     0.0     0.0  ...     0.0     0.0     0.0   \n",
       "2nd Chance              0.0     0.0     0.0  ...     0.0     0.0     0.0   \n",
       "2nd Chance              0.0     0.0     0.0  ...     0.0     0.0     0.0   \n",
       "\n",
       "user                 274308  274808  275970  277427  277478  277639  278418  \n",
       "title                                                                        \n",
       "1984                    0.0     0.0     0.0     0.0     0.0     0.0     0.0  \n",
       "1st to Die: A Novel     0.0     0.0     0.0     0.0     0.0     0.0     0.0  \n",
       "1st to Die: A Novel     0.0     0.0     0.0     0.0     0.0     0.0     0.0  \n",
       "2nd Chance              0.0     0.0     0.0     0.0     0.0     0.0     0.0  \n",
       "2nd Chance              0.0     0.0     0.0     0.0     0.0     0.0     0.0  \n",
       "\n",
       "[5 rows x 888 columns]"
      ]
     },
     "execution_count": 106,
     "metadata": {},
     "output_type": "execute_result"
    }
   ],
   "source": [
    "df.index = df.join(df_books.set_index('isbn'))['title']\n",
    "df = df.sort_index()\n",
    "df.head()"
   ]
  },
  {
   "cell_type": "code",
   "execution_count": 107,
   "id": "b3dc6b77",
   "metadata": {},
   "outputs": [
    {
     "data": {
      "text/plain": [
       "user\n",
       "254     0.0\n",
       "2276    0.0\n",
       "2766    0.0\n",
       "2977    0.0\n",
       "3363    0.0\n",
       "Name: The Queen of the Damned (Vampire Chronicles (Paperback)), dtype: float32"
      ]
     },
     "execution_count": 107,
     "metadata": {},
     "output_type": "execute_result"
    }
   ],
   "source": [
    "df.loc[\"The Queen of the Damned (Vampire Chronicles (Paperback))\"][:5]"
   ]
  },
  {
   "cell_type": "code",
   "execution_count": 108,
   "id": "a29d61a8",
   "metadata": {},
   "outputs": [
    {
     "data": {
      "text/plain": [
       "NearestNeighbors(metric='cosine')"
      ]
     },
     "execution_count": 108,
     "metadata": {},
     "output_type": "execute_result"
    }
   ],
   "source": [
    "model = NearestNeighbors(metric='cosine')\n",
    "model.fit(df.values)"
   ]
  },
  {
   "cell_type": "code",
   "execution_count": 109,
   "id": "6404c983",
   "metadata": {},
   "outputs": [
    {
     "data": {
      "text/plain": [
       "(888,)"
      ]
     },
     "execution_count": 109,
     "metadata": {},
     "output_type": "execute_result"
    }
   ],
   "source": [
    "df.iloc[0].shape"
   ]
  },
  {
   "cell_type": "code",
   "execution_count": 110,
   "id": "9b294b59",
   "metadata": {},
   "outputs": [
    {
     "name": "stdout",
     "output_type": "stream",
     "text": [
      "[[0.         0.51784116 0.53763384 0.73450685 0.74486566 0.7939835 ]] [[612 660 648 272 667 110]]\n"
     ]
    }
   ],
   "source": [
    "title=\"The Queen of the Damned (Vampire Chronicles (Paperback))\"\n",
    "distance, indice = model.kneighbors([df.loc[title].values], n_neighbors=6)\n",
    "print(distance,indice)"
   ]
  },
  {
   "cell_type": "code",
   "execution_count": 111,
   "id": "c6d06760",
   "metadata": {},
   "outputs": [
    {
     "data": {
      "text/plain": [
       "array(['The Queen of the Damned (Vampire Chronicles (Paperback))',\n",
       "       'The Vampire Lestat (Vampire Chronicles, Book II)',\n",
       "       'The Tale of the Body Thief (Vampire Chronicles (Paperback))',\n",
       "       'Interview with the Vampire',\n",
       "       'The Witching Hour (Lives of the Mayfair Witches)', 'Catch 22'],\n",
       "      dtype=object)"
      ]
     },
     "execution_count": 111,
     "metadata": {},
     "output_type": "execute_result"
    }
   ],
   "source": [
    "df.iloc[indice[0]].index.values"
   ]
  },
  {
   "cell_type": "code",
   "execution_count": 112,
   "id": "b555a324",
   "metadata": {},
   "outputs": [
    {
     "data": {
      "text/html": [
       "<div>\n",
       "<style scoped>\n",
       "    .dataframe tbody tr th:only-of-type {\n",
       "        vertical-align: middle;\n",
       "    }\n",
       "\n",
       "    .dataframe tbody tr th {\n",
       "        vertical-align: top;\n",
       "    }\n",
       "\n",
       "    .dataframe thead th {\n",
       "        text-align: right;\n",
       "    }\n",
       "</style>\n",
       "<table border=\"1\" class=\"dataframe\">\n",
       "  <thead>\n",
       "    <tr style=\"text-align: right;\">\n",
       "      <th></th>\n",
       "      <th>title</th>\n",
       "      <th>distance</th>\n",
       "    </tr>\n",
       "  </thead>\n",
       "  <tbody>\n",
       "    <tr>\n",
       "      <th>5</th>\n",
       "      <td>Catch 22</td>\n",
       "      <td>0.793984</td>\n",
       "    </tr>\n",
       "    <tr>\n",
       "      <th>4</th>\n",
       "      <td>The Witching Hour (Lives of the Mayfair Witches)</td>\n",
       "      <td>0.744866</td>\n",
       "    </tr>\n",
       "    <tr>\n",
       "      <th>3</th>\n",
       "      <td>Interview with the Vampire</td>\n",
       "      <td>0.734507</td>\n",
       "    </tr>\n",
       "    <tr>\n",
       "      <th>2</th>\n",
       "      <td>The Tale of the Body Thief (Vampire Chronicles...</td>\n",
       "      <td>0.537634</td>\n",
       "    </tr>\n",
       "    <tr>\n",
       "      <th>1</th>\n",
       "      <td>The Vampire Lestat (Vampire Chronicles, Book II)</td>\n",
       "      <td>0.517841</td>\n",
       "    </tr>\n",
       "    <tr>\n",
       "      <th>0</th>\n",
       "      <td>The Queen of the Damned (Vampire Chronicles (P...</td>\n",
       "      <td>0.000000</td>\n",
       "    </tr>\n",
       "  </tbody>\n",
       "</table>\n",
       "</div>"
      ],
      "text/plain": [
       "                                               title  distance\n",
       "5                                           Catch 22  0.793984\n",
       "4   The Witching Hour (Lives of the Mayfair Witches)  0.744866\n",
       "3                         Interview with the Vampire  0.734507\n",
       "2  The Tale of the Body Thief (Vampire Chronicles...  0.537634\n",
       "1   The Vampire Lestat (Vampire Chronicles, Book II)  0.517841\n",
       "0  The Queen of the Damned (Vampire Chronicles (P...  0.000000"
      ]
     },
     "execution_count": 112,
     "metadata": {},
     "output_type": "execute_result"
    }
   ],
   "source": [
    "pd.DataFrame({'title'   : df.iloc[indice[0]].index.values,\n",
    "              'distance': distance[0]}).sort_values(by='distance', ascending=False)"
   ]
  },
  {
   "cell_type": "markdown",
   "id": "7afb5a7c",
   "metadata": {},
   "source": [
    "Notice that the data returned from `get_recommends()` is a list. The first element in the list is the book title passed in to the function. The second element in the list is a list of five more lists. Each of the five lists contains a recommended book and the distance from the recommended book to the book passed in to the function.\n",
    "\n",
    "If you graph the dataset (optional), you will notice that most books are not rated frequently. To ensure statistical significance, remove from the dataset users with less than 200 ratings and books with less than 100 ratings."
   ]
  },
  {
   "cell_type": "code",
   "execution_count": 113,
   "id": "f4ebf1b9",
   "metadata": {},
   "outputs": [],
   "source": [
    "# function to return recommended books - this will be tested\n",
    "def get_recommends(book = \"\"):\n",
    "    b_ = df.loc[book]\n",
    "    distance, indice = model.kneighbors([b_.values], n_neighbors=6)\n",
    "    recommended_books = pd.DataFrame({\n",
    "        'title'   : df.iloc[indice[0]].index.values,\n",
    "        'distance': distance[0]}).sort_values(by='distance', ascending=False).head(5).values\n",
    "    return [book, recommended_books]"
   ]
  },
  {
   "cell_type": "markdown",
   "id": "2f7f0f5f",
   "metadata": {},
   "source": [
    "```[\n",
    "  'The Queen of the Damned (Vampire Chronicles (Paperback))',\n",
    "  [\n",
    "    ['Catch 22', 0.793983519077301], \n",
    "    ['The Witching Hour (Lives of the Mayfair Witches)', 0.7448656558990479], \n",
    "    ['Interview with the Vampire', 0.7345068454742432],\n",
    "    ['The Tale of the Body Thief (Vampire Chronicles (Paperback))', 0.5376338362693787],\n",
    "    ['The Vampire Lestat (Vampire Chronicles, Book II)', 0.5178412199020386]\n",
    "  ]\n",
    "]```"
   ]
  },
  {
   "cell_type": "code",
   "execution_count": 114,
   "id": "88479dfb",
   "metadata": {},
   "outputs": [
    {
     "name": "stdout",
     "output_type": "stream",
     "text": [
      "[\"Where the Heart Is (Oprah's Book Club (Paperback))\", array([[\"I'll Be Seeing You\", 0.8016210794448853],\n",
      "       ['The Weight of Water', 0.7708583474159241],\n",
      "       ['The Surgeon', 0.7699410915374756],\n",
      "       ['I Know This Much Is True', 0.7677075266838074],\n",
      "       ['The Lovely Bones: A Novel', 0.7234864830970764]], dtype=object)]\n"
     ]
    }
   ],
   "source": [
    "books = get_recommends(\"Where the Heart Is (Oprah's Book Club (Paperback))\")\n",
    "print(books)"
   ]
  },
  {
   "cell_type": "code",
   "execution_count": 115,
   "id": "4e5b9c90",
   "metadata": {},
   "outputs": [],
   "source": [
    "def test_book_recommendation():\n",
    "    test_pass = True\n",
    "    recommends = get_recommends(\"Where the Heart Is (Oprah's Book Club (Paperback))\")\n",
    "    if recommends[0] != \"Where the Heart Is (Oprah's Book Club (Paperback))\":\n",
    "        test_pass = False\n",
    "    recommended_books = [\"I'll Be Seeing You\", 'The Weight of Water', 'The Surgeon', 'I Know This Much Is True']\n",
    "    recommended_books_dist = [0.8, 0.77, 0.77, 0.77]\n",
    "    for i in range(2): \n",
    "        if recommends[1][i][0] not in recommended_books:\n",
    "            test_pass = False\n",
    "        if abs(recommends[1][i][1] - recommended_books_dist[i]) >= 0.05:\n",
    "            test_pass = False\n",
    "    if test_pass:\n",
    "        print(\"You passed the challenge! 🎉🎉🎉🎉🎉\")\n",
    "    else:\n",
    "        print(\"You haven't passed yet. Keep trying!\")"
   ]
  },
  {
   "cell_type": "code",
   "execution_count": 116,
   "id": "3d36c490",
   "metadata": {},
   "outputs": [
    {
     "name": "stdout",
     "output_type": "stream",
     "text": [
      "You passed the challenge! 🎉🎉🎉🎉🎉\n"
     ]
    }
   ],
   "source": [
    "test_book_recommendation()"
   ]
  }
 ],
 "metadata": {
  "kernelspec": {
   "display_name": "Python 3 (ipykernel)",
   "language": "python",
   "name": "python3"
  },
  "language_info": {
   "codemirror_mode": {
    "name": "ipython",
    "version": 3
   },
   "file_extension": ".py",
   "mimetype": "text/x-python",
   "name": "python",
   "nbconvert_exporter": "python",
   "pygments_lexer": "ipython3",
   "version": "3.8.10"
  }
 },
 "nbformat": 4,
 "nbformat_minor": 5
}
