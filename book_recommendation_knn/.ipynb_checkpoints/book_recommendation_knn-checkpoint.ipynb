{
 "cells": [
  {
   "cell_type": "code",
   "execution_count": 118,
   "id": "a637f5d6",
   "metadata": {},
   "outputs": [],
   "source": [
    "import numpy as np\n",
    "import pandas as pd\n",
    "from scipy.sparse import csr_matrix\n",
    "from sklearn.neighbors import NearestNeighbors\n",
    "import matplotlib.pyplot as plt"
   ]
  },
  {
   "cell_type": "code",
   "execution_count": 119,
   "id": "d41a347b",
   "metadata": {},
   "outputs": [],
   "source": [
    "books_filename = 'BX-Books.csv'\n",
    "ratings_filename = 'BX-Book-Ratings.csv'"
   ]
  },
  {
   "cell_type": "code",
   "execution_count": 120,
   "id": "08a213d6",
   "metadata": {},
   "outputs": [],
   "source": [
    "# import csv data into dataframes\n",
    "df_books = pd.read_csv(\n",
    "    books_filename,\n",
    "    encoding = \"ISO-8859-1\",\n",
    "    sep=\";\",\n",
    "    header=0,\n",
    "    names=['isbn', 'title', 'author'],\n",
    "    usecols=['isbn', 'title', 'author'],\n",
    "    dtype={'isbn': 'str', 'title': 'str', 'author': 'str'})"
   ]
  },
  {
   "cell_type": "code",
   "execution_count": 121,
   "id": "39172ff2",
   "metadata": {},
   "outputs": [
    {
     "data": {
      "text/plain": [
       "(271379, 3)"
      ]
     },
     "execution_count": 121,
     "metadata": {},
     "output_type": "execute_result"
    }
   ],
   "source": [
    "df_books.shape"
   ]
  },
  {
   "cell_type": "code",
   "execution_count": 122,
   "id": "a2da9985",
   "metadata": {},
   "outputs": [
    {
     "data": {
      "text/plain": [
       "isbn      0\n",
       "title     0\n",
       "author    1\n",
       "dtype: int64"
      ]
     },
     "execution_count": 122,
     "metadata": {},
     "output_type": "execute_result"
    }
   ],
   "source": [
    "df_books.isnull().sum()"
   ]
  },
  {
   "cell_type": "markdown",
   "id": "22a432b5",
   "metadata": {},
   "source": [
    "# Remove null rows"
   ]
  },
  {
   "cell_type": "code",
   "execution_count": 123,
   "id": "8cec0898",
   "metadata": {},
   "outputs": [
    {
     "data": {
      "text/plain": [
       "isbn      0\n",
       "title     0\n",
       "author    0\n",
       "dtype: int64"
      ]
     },
     "execution_count": 123,
     "metadata": {},
     "output_type": "execute_result"
    }
   ],
   "source": [
    "df_books.dropna(inplace=True)\n",
    "df_books.isnull().sum()"
   ]
  },
  {
   "cell_type": "code",
   "execution_count": 124,
   "id": "03700fd9",
   "metadata": {},
   "outputs": [],
   "source": [
    "# import csv data into dataframes\n",
    "df_ratings = pd.read_csv(\n",
    "    ratings_filename,\n",
    "    encoding = \"ISO-8859-1\",\n",
    "    sep=\";\",\n",
    "    header=0,\n",
    "    names=['user', 'isbn', 'rating'],\n",
    "    usecols=['user', 'isbn', 'rating'],\n",
    "    dtype={'user': 'int32', 'isbn': 'str', 'rating': 'float32'})"
   ]
  },
  {
   "cell_type": "code",
   "execution_count": 125,
   "id": "39438e9a",
   "metadata": {},
   "outputs": [
    {
     "data": {
      "text/html": [
       "<div>\n",
       "<style scoped>\n",
       "    .dataframe tbody tr th:only-of-type {\n",
       "        vertical-align: middle;\n",
       "    }\n",
       "\n",
       "    .dataframe tbody tr th {\n",
       "        vertical-align: top;\n",
       "    }\n",
       "\n",
       "    .dataframe thead th {\n",
       "        text-align: right;\n",
       "    }\n",
       "</style>\n",
       "<table border=\"1\" class=\"dataframe\">\n",
       "  <thead>\n",
       "    <tr style=\"text-align: right;\">\n",
       "      <th></th>\n",
       "      <th>user</th>\n",
       "      <th>isbn</th>\n",
       "      <th>rating</th>\n",
       "    </tr>\n",
       "  </thead>\n",
       "  <tbody>\n",
       "    <tr>\n",
       "      <th>0</th>\n",
       "      <td>276725</td>\n",
       "      <td>034545104X</td>\n",
       "      <td>0.0</td>\n",
       "    </tr>\n",
       "    <tr>\n",
       "      <th>1</th>\n",
       "      <td>276726</td>\n",
       "      <td>0155061224</td>\n",
       "      <td>5.0</td>\n",
       "    </tr>\n",
       "    <tr>\n",
       "      <th>2</th>\n",
       "      <td>276727</td>\n",
       "      <td>0446520802</td>\n",
       "      <td>0.0</td>\n",
       "    </tr>\n",
       "    <tr>\n",
       "      <th>3</th>\n",
       "      <td>276729</td>\n",
       "      <td>052165615X</td>\n",
       "      <td>3.0</td>\n",
       "    </tr>\n",
       "    <tr>\n",
       "      <th>4</th>\n",
       "      <td>276729</td>\n",
       "      <td>0521795028</td>\n",
       "      <td>6.0</td>\n",
       "    </tr>\n",
       "    <tr>\n",
       "      <th>...</th>\n",
       "      <td>...</td>\n",
       "      <td>...</td>\n",
       "      <td>...</td>\n",
       "    </tr>\n",
       "    <tr>\n",
       "      <th>1149775</th>\n",
       "      <td>276704</td>\n",
       "      <td>1563526298</td>\n",
       "      <td>9.0</td>\n",
       "    </tr>\n",
       "    <tr>\n",
       "      <th>1149776</th>\n",
       "      <td>276706</td>\n",
       "      <td>0679447156</td>\n",
       "      <td>0.0</td>\n",
       "    </tr>\n",
       "    <tr>\n",
       "      <th>1149777</th>\n",
       "      <td>276709</td>\n",
       "      <td>0515107662</td>\n",
       "      <td>10.0</td>\n",
       "    </tr>\n",
       "    <tr>\n",
       "      <th>1149778</th>\n",
       "      <td>276721</td>\n",
       "      <td>0590442449</td>\n",
       "      <td>10.0</td>\n",
       "    </tr>\n",
       "    <tr>\n",
       "      <th>1149779</th>\n",
       "      <td>276723</td>\n",
       "      <td>05162443314</td>\n",
       "      <td>8.0</td>\n",
       "    </tr>\n",
       "  </tbody>\n",
       "</table>\n",
       "<p>1149780 rows × 3 columns</p>\n",
       "</div>"
      ],
      "text/plain": [
       "           user         isbn  rating\n",
       "0        276725   034545104X     0.0\n",
       "1        276726   0155061224     5.0\n",
       "2        276727   0446520802     0.0\n",
       "3        276729   052165615X     3.0\n",
       "4        276729   0521795028     6.0\n",
       "...         ...          ...     ...\n",
       "1149775  276704   1563526298     9.0\n",
       "1149776  276706   0679447156     0.0\n",
       "1149777  276709   0515107662    10.0\n",
       "1149778  276721   0590442449    10.0\n",
       "1149779  276723  05162443314     8.0\n",
       "\n",
       "[1149780 rows x 3 columns]"
      ]
     },
     "execution_count": 125,
     "metadata": {},
     "output_type": "execute_result"
    }
   ],
   "source": [
    "df_ratings.drop_duplicates()"
   ]
  },
  {
   "cell_type": "code",
   "execution_count": 126,
   "id": "4c6df35a",
   "metadata": {},
   "outputs": [
    {
     "data": {
      "text/plain": [
       "(1149780, 3)"
      ]
     },
     "execution_count": 126,
     "metadata": {},
     "output_type": "execute_result"
    }
   ],
   "source": [
    "df_ratings.shape"
   ]
  },
  {
   "cell_type": "markdown",
   "id": "6935bd0f",
   "metadata": {},
   "source": [
    "### remove from the dataset users with less than 200 ratings and books with less than 100 ratings."
   ]
  },
  {
   "cell_type": "code",
   "execution_count": 127,
   "id": "70c8bf26",
   "metadata": {},
   "outputs": [
    {
     "data": {
      "text/plain": [
       "(1149780, 3)"
      ]
     },
     "execution_count": 127,
     "metadata": {},
     "output_type": "execute_result"
    }
   ],
   "source": [
    "df_ratings[\"user\"]=df_ratings.loc[df_ratings[\"user\"]>200]\n",
    "df_ratings.shape\n"
   ]
  },
  {
   "cell_type": "code",
   "execution_count": 134,
   "id": "1ce15206",
   "metadata": {},
   "outputs": [
    {
     "name": "stdout",
     "output_type": "stream",
     "text": [
      "(862335,) (287445,) (862335,) (287445,)\n"
     ]
    }
   ],
   "source": [
    "from sklearn.model_selection import train_test_split\n",
    "X_train,X_test,y_train,y_test=train_test_split(df_ratings[\"user\"],df_ratings[\"rating\"],random_state=1)\n",
    "print(X_train.shape,X_test.shape,y_train.shape,y_test.shape)"
   ]
  },
  {
   "cell_type": "code",
   "execution_count": null,
   "id": "9f958457",
   "metadata": {},
   "outputs": [],
   "source": [
    "from sklearn.neighbors import KNeighborsClassifier\n",
    "neigh = KNeighborsClassifier(n_neighbors=3)"
   ]
  },
  {
   "cell_type": "markdown",
   "id": "7afb5a7c",
   "metadata": {},
   "source": [
    "Notice that the data returned from `get_recommends()` is a list. The first element in the list is the book title passed in to the function. The second element in the list is a list of five more lists. Each of the five lists contains a recommended book and the distance from the recommended book to the book passed in to the function.\n",
    "\n",
    "If you graph the dataset (optional), you will notice that most books are not rated frequently. To ensure statistical significance, remove from the dataset users with less than 200 ratings and books with less than 100 ratings."
   ]
  },
  {
   "cell_type": "code",
   "execution_count": 129,
   "id": "f4ebf1b9",
   "metadata": {},
   "outputs": [],
   "source": [
    "# function to return recommended books - this will be tested\n",
    "def get_recommends(book = \"\"):\n",
    "    recommended_books=[]\n",
    "    recommended_books.append(book)\n",
    "    return recommended_books"
   ]
  },
  {
   "cell_type": "markdown",
   "id": "2f7f0f5f",
   "metadata": {},
   "source": [
    "```[\n",
    "  'The Queen of the Damned (Vampire Chronicles (Paperback))',\n",
    "  [\n",
    "    ['Catch 22', 0.793983519077301], \n",
    "    ['The Witching Hour (Lives of the Mayfair Witches)', 0.7448656558990479], \n",
    "    ['Interview with the Vampire', 0.7345068454742432],\n",
    "    ['The Tale of the Body Thief (Vampire Chronicles (Paperback))', 0.5376338362693787],\n",
    "    ['The Vampire Lestat (Vampire Chronicles, Book II)', 0.5178412199020386]\n",
    "  ]\n",
    "]```"
   ]
  },
  {
   "cell_type": "code",
   "execution_count": 130,
   "id": "88479dfb",
   "metadata": {},
   "outputs": [
    {
     "name": "stdout",
     "output_type": "stream",
     "text": [
      "[\"Where the Heart Is (Oprah's Book Club (Paperback))\"]\n"
     ]
    }
   ],
   "source": [
    "books = get_recommends(\"Where the Heart Is (Oprah's Book Club (Paperback))\")\n",
    "print(books)"
   ]
  },
  {
   "cell_type": "code",
   "execution_count": 131,
   "id": "4e5b9c90",
   "metadata": {},
   "outputs": [],
   "source": [
    "def test_book_recommendation():\n",
    "    test_pass = True\n",
    "    recommends = get_recommends(\"Where the Heart Is (Oprah's Book Club (Paperback))\")\n",
    "    if recommends[0] != \"Where the Heart Is (Oprah's Book Club (Paperback))\":\n",
    "        test_pass = False\n",
    "    recommended_books = [\"I'll Be Seeing You\", 'The Weight of Water', 'The Surgeon', 'I Know This Much Is True']\n",
    "    recommended_books_dist = [0.8, 0.77, 0.77, 0.77]\n",
    "    for i in range(2): \n",
    "        if recommends[1][i][0] not in recommended_books:\n",
    "            test_pass = False\n",
    "        if abs(recommends[1][i][1] - recommended_books_dist[i]) >= 0.05:\n",
    "            test_pass = False\n",
    "    if test_pass:\n",
    "        print(\"You passed the challenge! 🎉🎉🎉🎉🎉\")\n",
    "    else:\n",
    "        print(\"You haven't passed yet. Keep trying!\")"
   ]
  },
  {
   "cell_type": "code",
   "execution_count": 132,
   "id": "3d36c490",
   "metadata": {},
   "outputs": [
    {
     "ename": "IndexError",
     "evalue": "list index out of range",
     "output_type": "error",
     "traceback": [
      "\u001b[0;31m---------------------------------------------------------------------------\u001b[0m",
      "\u001b[0;31mIndexError\u001b[0m                                Traceback (most recent call last)",
      "Input \u001b[0;32mIn [132]\u001b[0m, in \u001b[0;36m<cell line: 1>\u001b[0;34m()\u001b[0m\n\u001b[0;32m----> 1\u001b[0m \u001b[43mtest_book_recommendation\u001b[49m\u001b[43m(\u001b[49m\u001b[43m)\u001b[49m\n",
      "Input \u001b[0;32mIn [131]\u001b[0m, in \u001b[0;36mtest_book_recommendation\u001b[0;34m()\u001b[0m\n\u001b[1;32m      7\u001b[0m recommended_books_dist \u001b[38;5;241m=\u001b[39m [\u001b[38;5;241m0.8\u001b[39m, \u001b[38;5;241m0.77\u001b[39m, \u001b[38;5;241m0.77\u001b[39m, \u001b[38;5;241m0.77\u001b[39m]\n\u001b[1;32m      8\u001b[0m \u001b[38;5;28;01mfor\u001b[39;00m i \u001b[38;5;129;01min\u001b[39;00m \u001b[38;5;28mrange\u001b[39m(\u001b[38;5;241m2\u001b[39m): \n\u001b[0;32m----> 9\u001b[0m     \u001b[38;5;28;01mif\u001b[39;00m \u001b[43mrecommends\u001b[49m\u001b[43m[\u001b[49m\u001b[38;5;241;43m1\u001b[39;49m\u001b[43m]\u001b[49m[i][\u001b[38;5;241m0\u001b[39m] \u001b[38;5;129;01mnot\u001b[39;00m \u001b[38;5;129;01min\u001b[39;00m recommended_books:\n\u001b[1;32m     10\u001b[0m         test_pass \u001b[38;5;241m=\u001b[39m \u001b[38;5;28;01mFalse\u001b[39;00m\n\u001b[1;32m     11\u001b[0m     \u001b[38;5;28;01mif\u001b[39;00m \u001b[38;5;28mabs\u001b[39m(recommends[\u001b[38;5;241m1\u001b[39m][i][\u001b[38;5;241m1\u001b[39m] \u001b[38;5;241m-\u001b[39m recommended_books_dist[i]) \u001b[38;5;241m>\u001b[39m\u001b[38;5;241m=\u001b[39m \u001b[38;5;241m0.05\u001b[39m:\n",
      "\u001b[0;31mIndexError\u001b[0m: list index out of range"
     ]
    }
   ],
   "source": [
    "test_book_recommendation()"
   ]
  },
  {
   "cell_type": "code",
   "execution_count": null,
   "id": "c44c751e",
   "metadata": {},
   "outputs": [],
   "source": []
  },
  {
   "cell_type": "code",
   "execution_count": null,
   "id": "9333ab95",
   "metadata": {},
   "outputs": [],
   "source": []
  }
 ],
 "metadata": {
  "kernelspec": {
   "display_name": "Python 3 (ipykernel)",
   "language": "python",
   "name": "python3"
  },
  "language_info": {
   "codemirror_mode": {
    "name": "ipython",
    "version": 3
   },
   "file_extension": ".py",
   "mimetype": "text/x-python",
   "name": "python",
   "nbconvert_exporter": "python",
   "pygments_lexer": "ipython3",
   "version": "3.8.10"
  }
 },
 "nbformat": 4,
 "nbformat_minor": 5
}
